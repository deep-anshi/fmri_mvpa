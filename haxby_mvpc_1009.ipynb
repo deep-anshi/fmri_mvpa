{
 "cells": [
  {
   "cell_type": "markdown",
   "metadata": {},
   "source": [
    "## MVPC"
   ]
  },
  {
   "cell_type": "markdown",
   "metadata": {},
   "source": [
    "This notebook was created by \n",
    "* Heejung Jung\n",
    "* Xiaochun Han\n",
    "* Deepanshi "
   ]
  },
  {
   "cell_type": "code",
   "execution_count": 163,
   "metadata": {},
   "outputs": [],
   "source": [
    "# load libraries\n",
    "import os\n",
    "import numpy as np\n",
    "import mvpa2\n",
    "import pandas as pd\n",
    "from mvpa2.tutorial_suite import *\n",
    "import nilearn\n",
    "import nipy\n",
    "import mvpa2.suite as mv\n",
    "import nibabel"
   ]
  },
  {
   "cell_type": "markdown",
   "metadata": {},
   "source": [
    "# 1 out of 20"
   ]
  },
  {
   "cell_type": "markdown",
   "metadata": {},
   "source": [
    "## load behavioral data"
   ]
  },
  {
   "cell_type": "code",
   "execution_count": 115,
   "metadata": {},
   "outputs": [],
   "source": [
    "# create two column text file\n",
    "main_dir = '/Users/h/Documents/projects_local/haxby_mvpc'\n",
    "# data_path = os.path.join(tutorial_data_path, 'haxby2001')\n",
    "attr_tsv = os.path.join(main_dir, 'data','attention','sub-rid000001_task-beh_run-1_events.tsv')\n",
    "attr = pd.read_csv(attr_tsv, sep='\\t')\n",
    "attr['chunks'] = np.repeat([0,1], 44)"
   ]
  },
  {
   "cell_type": "code",
   "execution_count": 116,
   "metadata": {},
   "outputs": [
    {
     "data": {
      "text/html": [
       "<div>\n",
       "<style scoped>\n",
       "    .dataframe tbody tr th:only-of-type {\n",
       "        vertical-align: middle;\n",
       "    }\n",
       "\n",
       "    .dataframe tbody tr th {\n",
       "        vertical-align: top;\n",
       "    }\n",
       "\n",
       "    .dataframe thead th {\n",
       "        text-align: right;\n",
       "    }\n",
       "</style>\n",
       "<table border=\"1\" class=\"dataframe\">\n",
       "  <thead>\n",
       "    <tr style=\"text-align: right;\">\n",
       "      <th></th>\n",
       "      <th>onset</th>\n",
       "      <th>duration</th>\n",
       "      <th>trial_type</th>\n",
       "      <th>taxonomy</th>\n",
       "      <th>behavior</th>\n",
       "      <th>task</th>\n",
       "      <th>repetition</th>\n",
       "      <th>response_time</th>\n",
       "      <th>mirror</th>\n",
       "      <th>stim_file</th>\n",
       "      <th>chunks</th>\n",
       "    </tr>\n",
       "  </thead>\n",
       "  <tbody>\n",
       "    <tr>\n",
       "      <th>0</th>\n",
       "      <td>12</td>\n",
       "      <td>2</td>\n",
       "      <td>ungulate_running</td>\n",
       "      <td>ungulate</td>\n",
       "      <td>running</td>\n",
       "      <td>behavior</td>\n",
       "      <td>none</td>\n",
       "      <td>none</td>\n",
       "      <td>no</td>\n",
       "      <td>ungulate_running_2.mp4</td>\n",
       "      <td>0</td>\n",
       "    </tr>\n",
       "    <tr>\n",
       "      <th>1</th>\n",
       "      <td>16</td>\n",
       "      <td>2</td>\n",
       "      <td>bird_fighting</td>\n",
       "      <td>bird</td>\n",
       "      <td>fighting</td>\n",
       "      <td>behavior</td>\n",
       "      <td>none</td>\n",
       "      <td>none</td>\n",
       "      <td>yes</td>\n",
       "      <td>bird_fighting_1.mp4</td>\n",
       "      <td>0</td>\n",
       "    </tr>\n",
       "    <tr>\n",
       "      <th>2</th>\n",
       "      <td>20</td>\n",
       "      <td>2</td>\n",
       "      <td>insect_swimming</td>\n",
       "      <td>insect</td>\n",
       "      <td>swimming</td>\n",
       "      <td>behavior</td>\n",
       "      <td>none</td>\n",
       "      <td>none</td>\n",
       "      <td>yes</td>\n",
       "      <td>insect_swimming_2.mp4</td>\n",
       "      <td>0</td>\n",
       "    </tr>\n",
       "    <tr>\n",
       "      <th>3</th>\n",
       "      <td>28</td>\n",
       "      <td>2</td>\n",
       "      <td>bird_eating</td>\n",
       "      <td>bird</td>\n",
       "      <td>eating</td>\n",
       "      <td>behavior</td>\n",
       "      <td>none</td>\n",
       "      <td>none</td>\n",
       "      <td>yes</td>\n",
       "      <td>bird_eating_1.mp4</td>\n",
       "      <td>0</td>\n",
       "    </tr>\n",
       "    <tr>\n",
       "      <th>4</th>\n",
       "      <td>32</td>\n",
       "      <td>2</td>\n",
       "      <td>ungulate_eating</td>\n",
       "      <td>ungulate</td>\n",
       "      <td>eating</td>\n",
       "      <td>behavior</td>\n",
       "      <td>behavior</td>\n",
       "      <td>0.248026133</td>\n",
       "      <td>no</td>\n",
       "      <td>ungulate_eating_1.mp4</td>\n",
       "      <td>0</td>\n",
       "    </tr>\n",
       "  </tbody>\n",
       "</table>\n",
       "</div>"
      ],
      "text/plain": [
       "   onset  duration        trial_type  taxonomy  behavior      task repetition  \\\n",
       "0     12         2  ungulate_running  ungulate   running  behavior       none   \n",
       "1     16         2     bird_fighting      bird  fighting  behavior       none   \n",
       "2     20         2   insect_swimming    insect  swimming  behavior       none   \n",
       "3     28         2       bird_eating      bird    eating  behavior       none   \n",
       "4     32         2   ungulate_eating  ungulate    eating  behavior   behavior   \n",
       "\n",
       "  response_time mirror               stim_file  chunks  \n",
       "0          none     no  ungulate_running_2.mp4       0  \n",
       "1          none    yes     bird_fighting_1.mp4       0  \n",
       "2          none    yes   insect_swimming_2.mp4       0  \n",
       "3          none    yes       bird_eating_1.mp4       0  \n",
       "4   0.248026133     no   ungulate_eating_1.mp4       0  "
      ]
     },
     "execution_count": 116,
     "metadata": {},
     "output_type": "execute_result"
    }
   ],
   "source": [
    "attr.head()"
   ]
  },
  {
   "cell_type": "code",
   "execution_count": 117,
   "metadata": {},
   "outputs": [],
   "source": [
    "attr_subset = attr[['trial_type', 'chunks']]"
   ]
  },
  {
   "cell_type": "code",
   "execution_count": 118,
   "metadata": {},
   "outputs": [],
   "source": [
    "attr_subset.rename(columns={'trial_type':'targets'}, \n",
    "                 inplace=True)\n",
    "# pd.concat([new_attr]*2, ignore_index=True)"
   ]
  },
  {
   "cell_type": "markdown",
   "metadata": {},
   "source": [
    "## running glm"
   ]
  },
  {
   "cell_type": "code",
   "execution_count": 188,
   "metadata": {},
   "outputs": [],
   "source": [
    "gifti_fname = os.path.join(main_dir, 'attention','derivatives','fmriprep','sub-rid000001','func','sub-rid000001_task-beh_run-1_bold_space-fsaverage6.L.func.gii')\n",
    "nifti_fname= '/Users/h/Documents/projects_local/haxby_mvpc/attention/derivatives/sub-rid000001/sub-rid000001_task-beh_run-1_bold.nii.gz'\n",
    "#surf = mv.surf.read(gifti_fname)\n",
    "ds = fmri_dataset(nifti_fname)\n",
    "#qe = mv.SurfaceQueryEngine(surf, 10.0, distance_metric='dijkstra')\n",
    "\n",
    "# model_gen = lambda y, x: sm.OLS(y, x)"
   ]
  },
  {
   "cell_type": "code",
   "execution_count": 120,
   "metadata": {},
   "outputs": [],
   "source": [
    "events = find_events(targets=attr.trial_type,\n",
    "                     chunks = attr.chunks)"
   ]
  },
  {
   "cell_type": "code",
   "execution_count": 121,
   "metadata": {},
   "outputs": [],
   "source": [
    "TR = 2\n",
    "for ind, ev in enumerate(events):\n",
    "    ev['onset'] = attr['onset'][ind]\n",
    "    ev['duration'] = 2"
   ]
  },
  {
   "cell_type": "code",
   "execution_count": 150,
   "metadata": {},
   "outputs": [],
   "source": [
    "# glm\n",
    "evds = fit_event_hrf_model(ds, events,\n",
    "                           time_attr = 'time_coords',\n",
    "                           condition_attr=('targets','chunks'))"
   ]
  },
  {
   "cell_type": "code",
   "execution_count": 166,
   "metadata": {},
   "outputs": [],
   "source": [
    "# Z-score features across samples\n",
    "evds.samples = ((evds.samples - np.mean(evds.samples, axis=1)[:, None])\n",
    "              / np.std(evds.samples, axis=1)[:, None])"
   ]
  },
  {
   "cell_type": "markdown",
   "metadata": {},
   "source": [
    "## classification"
   ]
  },
  {
   "cell_type": "code",
   "execution_count": 179,
   "metadata": {},
   "outputs": [],
   "source": [
    "# classifier\n",
    "clf = LinearCSVMC()\n",
    "cv = CrossValidation(clf, NFoldPartitioner())\n"
   ]
  },
  {
   "cell_type": "code",
   "execution_count": 180,
   "metadata": {},
   "outputs": [],
   "source": [
    "cv_glm = cv(evds)"
   ]
  },
  {
   "cell_type": "code",
   "execution_count": 182,
   "metadata": {},
   "outputs": [
    {
     "data": {
      "text/plain": [
       "0.9473684210526316"
      ]
     },
     "execution_count": 182,
     "metadata": {},
     "output_type": "execute_result"
    }
   ],
   "source": [
    "np.mean(cv_glm)"
   ]
  },
  {
   "cell_type": "markdown",
   "metadata": {},
   "source": [
    "### searchlight doesn't work - work on it"
   ]
  },
  {
   "cell_type": "code",
   "execution_count": null,
   "metadata": {},
   "outputs": [],
   "source": [
    "# search light\n",
    "# sl = Searchlight(cv,\n",
    "#  IndexQueryEngine(voxel_indices=Sphere(1),\n",
    "#  event_offsetidx=Sphere(2)),\n",
    "#  postproc=mean_sample())\n",
    "qe = mv.SurfaceQueryEngine(surf, 10.0, distance_metric='dijkstra')\n",
    "\n",
    "sl = Searchlight(cv, \n",
    "                 queryengine=qe, \n",
    "                 enable_ca=['roi_sizes'],\n",
    "                    nproc=4, \n",
    "                 roi_ids=cortical_vertices)\n",
    "res = sl(evds)"
   ]
  },
  {
   "cell_type": "markdown",
   "metadata": {},
   "source": [
    "## kNN"
   ]
  },
  {
   "cell_type": "code",
   "execution_count": 154,
   "metadata": {},
   "outputs": [
    {
     "name": "stdout",
     "output_type": "stream",
     "text": [
      "0.95\n"
     ]
    }
   ],
   "source": [
    "clf = kNN(k=1, dfx=one_minus_correlation, voting='majority')\n",
    "cv = CrossValidation(clf, NFoldPartitioner(attr='chunks'))\n",
    "cv_glm = cv(evds)\n",
    "print '%.2f' % np.mean(cv_glm)"
   ]
  },
  {
   "cell_type": "code",
   "execution_count": 29,
   "metadata": {},
   "outputs": [
    {
     "data": {
      "text/plain": [
       "True"
      ]
     },
     "execution_count": 29,
     "metadata": {},
     "output_type": "execute_result"
    }
   ],
   "source": [
    "ds.sa.time_indices[:5] # array([0, 1, 2, 3, 4])\n",
    "\n",
    "ds.sa.time_coords[:5] # array([0., 2., 4., 6., 8.])\n",
    "\n",
    "ds.fa.voxel_indices[:5]\n",
    "# array([[0, 0, 0],\n",
    "#        [0, 0, 1],\n",
    "#        [0, 0, 2],\n",
    "#        [0, 0, 3],\n",
    "#        [0, 0, 4]])\n",
    "\n",
    "ds.a.voxel_eldim # (3.0, 3.0, 3.0)\n",
    "\n",
    "ds.a.voxel_dim # (80, 80, 42)\n",
    "\n",
    "'imghdr' in ds.a # True"
   ]
  },
  {
   "cell_type": "code",
   "execution_count": 30,
   "metadata": {},
   "outputs": [
    {
     "name": "stdout",
     "output_type": "stream",
     "text": [
      "<FlattenMapper>\n"
     ]
    }
   ],
   "source": [
    "print ds.a.mapper"
   ]
  },
  {
   "cell_type": "markdown",
   "metadata": {},
   "source": [
    "# classify taxa (1 out of 5), training on videos with 3 behaviors and testing on videos with the left-out behavior."
   ]
  },
  {
   "cell_type": "code",
   "execution_count": null,
   "metadata": {},
   "outputs": [],
   "source": [
    "# split data training on \"non-eating\" testing on \"eating\"\n",
    "ds_split1 = ds[ds.sa.taxa != 'eating']\n",
    "len(ds_split1)\n",
    "ds_split2 = ds[ds.sa.runtype == 'eating']\n",
    "len(ds_split2)\n"
   ]
  },
  {
   "cell_type": "markdown",
   "metadata": {},
   "source": [
    "# Classify behaviors (1 out of 4), training on videos with 4 taxa and testing on videos with left-out taxonomic category"
   ]
  },
  {
   "cell_type": "code",
   "execution_count": null,
   "metadata": {},
   "outputs": [],
   "source": []
  }
 ],
 "metadata": {
  "kernelspec": {
   "display_name": "Python 2",
   "language": "python",
   "name": "python2"
  },
  "language_info": {
   "codemirror_mode": {
    "name": "ipython",
    "version": 2
   },
   "file_extension": ".py",
   "mimetype": "text/x-python",
   "name": "python",
   "nbconvert_exporter": "python",
   "pygments_lexer": "ipython2",
   "version": "2.7.16"
  },
  "latex_envs": {
   "LaTeX_envs_menu_present": true,
   "autoclose": false,
   "autocomplete": true,
   "bibliofile": "biblio.bib",
   "cite_by": "apalike",
   "current_citInitial": 1,
   "eqLabelWithNumbers": true,
   "eqNumInitial": 1,
   "hotkeys": {
    "equation": "Ctrl-E",
    "itemize": "Ctrl-I"
   },
   "labels_anchors": false,
   "latex_user_defs": false,
   "report_style_numbering": false,
   "user_envs_cfg": false
  },
  "toc": {
   "base_numbering": 1,
   "nav_menu": {},
   "number_sections": true,
   "sideBar": true,
   "skip_h1_title": false,
   "title_cell": "Table of Contents",
   "title_sidebar": "Contents",
   "toc_cell": false,
   "toc_position": {},
   "toc_section_display": true,
   "toc_window_display": true
  }
 },
 "nbformat": 4,
 "nbformat_minor": 2
}
