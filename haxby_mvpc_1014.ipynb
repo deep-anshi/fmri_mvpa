{
 "cells": [
  {
   "cell_type": "markdown",
   "metadata": {},
   "source": [
    "## Overview"
   ]
  },
  {
   "cell_type": "markdown",
   "metadata": {},
   "source": [
    "This notebook was created by \n",
    "* Heejung Jung\n",
    "* Xiaochun Han\n",
    "* Deepanshi \n",
    "\n",
    "Project: MVPC – classify behaving animal data in searchlights using SVM\n",
    "* P1. 1 out of 20 conditions\n",
    "* P2. Classify taxa (1 out of 5), training on videos with 3 behaviors and testing on videos with the left-out behavior.\n",
    "* P3. Classify behaviors (1 out of 4), training on videos with 4 taxa and testing on videos with left-out taxonomic category\n",
    "\n",
    "Parameters:\n",
    "* The attention task (tax, beh) was ignored and was treated as separate runs. There were 5 runs per task, however, we've treated them as 10 runs. \n",
    "* search light radii: 10"
   ]
  },
  {
   "cell_type": "code",
   "execution_count": 1,
   "metadata": {},
   "outputs": [
    {
     "name": "stderr",
     "output_type": "stream",
     "text": [
      "/Users/h/anaconda3/envs/pymvpa_eng/lib/python2.7/site-packages/pydicom/__init__.py:55: DeprecationWarning: Python 2 will no longer be supported after the pydicom v1.4 release\n",
      "  warnings.warn(msg, DeprecationWarning)\n",
      "/Users/h/anaconda3/envs/pymvpa_eng/lib/python2.7/site-packages/nilearn/__init__.py:73: DeprecationWarning: Python2 support is deprecated and will be removed in the next release. Consider switching to Python 3.6 or 3.7.\n",
      "  _python_deprecation_warnings()\n",
      "/Users/h/anaconda3/envs/pymvpa_eng/lib/python2.7/site-packages/_pytest/mark/structures.py:383: DeprecationWarning: The usage of `cmp` is deprecated and will be removed on or after 2021-06-01.  Please use `eq` and `order` instead.\n",
      "  @attr.s(cmp=False, hash=False)\n",
      "/Users/h/anaconda3/envs/pymvpa_eng/lib/python2.7/site-packages/nipy/testing/decorators.py:11: DeprecationWarning: Importing from numpy.testing.decorators is deprecated since numpy 1.15.0, import from numpy.testing instead.\n",
      "  from numpy.testing.decorators import *\n",
      "/Users/h/anaconda3/envs/pymvpa_eng/lib/python2.7/site-packages/mvpa2/base/hdf5.py:40: H5pyDeprecationWarning: The h5py.highlevel module is deprecated, code should import directly from h5py, e.g. 'from h5py import File'.\n",
      "  import h5py.highlevel  # >= 2.8.0, https://github.com/h5py/h5py/issues/1063\n"
     ]
    }
   ],
   "source": [
    "# load libraries\n",
    "import os\n",
    "import numpy as np\n",
    "import mvpa2\n",
    "import pandas as pd\n",
    "# from mvpa2.tutorial_suite import *\n",
    "import nilearn\n",
    "import nipy\n",
    "import mvpa2.suite as mv\n",
    "import nibabel\n",
    "from numpy.testing.decorators import skipif\n"
   ]
  },
  {
   "cell_type": "markdown",
   "metadata": {},
   "source": [
    "### helpful resources"
   ]
  },
  {
   "cell_type": "markdown",
   "metadata": {},
   "source": [
    "http://www.pymvpa.org/examples/searchlight_surf.html\n",
    "\n",
    "\n",
    "class mvpa2.datasets.gifti.AttrDataset(samples, sa=None, fa=None, a=None)\n",
    "\n",
    "A dataset consists of four pieces. The core is a two-dimensional array that has variables (so-called features) in its columns and the associated observations (so-called samples) in the rows. In addition a dataset may have any number of attributes for features and samples. Unsurprisingly, these are called ‘feature attributes’ and ‘sample attributes’. Each attribute is a vector of any datatype that contains a value per each item (feature or sample). Both types of attributes are organized in their respective collections – accessible via the sa (sample attribute) and fa (feature attribute) attributes. Finally, a dataset itself may have any number of additional attributes (i.e. a mapper) that are stored in their own collection that is accessible via the a attribute (see examples below)."
   ]
  },
  {
   "cell_type": "markdown",
   "metadata": {},
   "source": [
    "# P1. 1 out of 20"
   ]
  },
  {
   "cell_type": "markdown",
   "metadata": {},
   "source": [
    "### load dataset (glm output)"
   ]
  },
  {
   "cell_type": "code",
   "execution_count": 3,
   "metadata": {},
   "outputs": [
    {
     "name": "stderr",
     "output_type": "stream",
     "text": [
      "/Users/h/anaconda3/envs/pymvpa_eng/lib/python2.7/site-packages/mvpa2/datasets/gifti.py:77: DeprecationWarning: giftiio.read function deprecated. Use nibabel.load() instead.\n",
      "\n",
      "* deprecated from version: 2.1\n",
      "* Will raise <class 'nibabel.deprecator.ExpiredDeprecationError'> as of version: 4.0\n",
      "  samples = giftiio.read(samples)\n"
     ]
    }
   ],
   "source": [
    "main_dir = '/Users/h/Documents/projects_local/cluster_projects'\n",
    "# main_dir = '/dartfs-hpc/scratch/psyc164/groupXHD'\n",
    "sub_name = 'sub-rid000001'\n",
    "task_list = ['beh', 'tax']\n",
    "data_set = []\n",
    "for task_name in task_list:\n",
    "    for run_num in range(1,6):\n",
    "        ds=[]\n",
    "#         tax_beh = [\"bird_eating\", \"bird_fighting\", \"bird_running\", \"bird_swimming\",\n",
    "#                            \"insect_eating\", \"insect_fighting\", \"insect_running\", \"insect_swimming\",\n",
    "#                            \"primate_eating\",\"primate_fighting\",\"primate_running\",\"primate_swimming\",\n",
    "#                            \"reptile_eating\",\"reptile_fighting\", \"reptile_running\", \"reptile_swimming\",\n",
    "#                            \"ungulate_eating\",\"ungulate_fighting\",\"ungulate_running\",\"ungulate_swimming\"]\n",
    "#         beh = np.tile(['eating','fighting','running','swimming'],5)\n",
    "#         tax = np.repeat(['bird','insect','primate', 'reptile', 'ungulate'],4)\n",
    "#         run = np.repeat(run_num, 20)\n",
    "        \n",
    "        gifti_fname = os.path.join(main_dir,'analysis', sub_name,'func', sub_name + '_task-' + task_name + '_run-' + str(run_num) +'_rw-glm.lh.coefs.gii')\n",
    "        ds = mv.gifti_dataset(gifti_fname)\n",
    "        \n",
    "        # order in sub-rid000001_task-beh_run-5_rw-glm.lh.X.xmat.1D \n",
    "        ds.sa['beh_tax'] = [\"bird_eating\", \"bird_fighting\", \"bird_running\", \"bird_swimming\",\n",
    "                           \"insect_eating\", \"insect_fighting\", \"insect_running\", \"insect_swimming\",\n",
    "                           \"primate_eating\",\"primate_fighting\",\"primate_running\",\"primate_swimming\",\n",
    "                           \"reptile_eating\",\"reptile_fighting\", \"reptile_running\", \"reptile_swimming\",\n",
    "                           \"ungulate_eating\",\"ungulate_fighting\",\"ungulate_running\",\"ungulate_swimming\"]\n",
    "        ds.sa['beh'] = np.tile(['eating','fighting','running','swimming'],5)\n",
    "        ds.sa['tax'] = np.repeat(['bird','insect','primate', 'reptile', 'ungulate'],4)\n",
    "        ds.sa['run'] = np.repeat(run_num, ds.shape[0])\n",
    "        ds.fa['node_indices'] = range(0,ds.shape[1]) # 0 ~ 400000\n",
    "        data_set.append(ds) \n",
    "    \n",
    "# http://www.pymvpa.org/tutorial_mappers.html\n",
    "within_ds = mv.vstack(data_set)"
   ]
  },
  {
   "cell_type": "raw",
   "metadata": {},
   "source": [
    "from nilearn import plotting\n",
    "from nilearn import surface\n",
    "from nilearn import datasets\n",
    "fsaverage = datasets.fetch_surf_fsaverage()\n",
    "nilearn.plotting.plot_surf_stat_map(fsaverage.infl_right,gifti_fname)"
   ]
  },
  {
   "cell_type": "code",
   "execution_count": 4,
   "metadata": {},
   "outputs": [
    {
     "data": {
      "text/plain": [
       "(200, 40962)"
      ]
     },
     "execution_count": 4,
     "metadata": {},
     "output_type": "execute_result"
    }
   ],
   "source": [
    "within_ds.shape"
   ]
  },
  {
   "cell_type": "code",
   "execution_count": 5,
   "metadata": {},
   "outputs": [
    {
     "data": {
      "text/plain": [
       "FeatureAttributesCollection(items=[ArrayCollectable(name='node_indices', doc=None, value=array([    0,     1,     2, ..., 40959, 40960, 40961]), length=40962)])"
      ]
     },
     "execution_count": 5,
     "metadata": {},
     "output_type": "execute_result"
    }
   ],
   "source": [
    "within_ds.fa"
   ]
  },
  {
   "cell_type": "markdown",
   "metadata": {},
   "source": [
    "### ds parameters (re-number the run/chunks)"
   ]
  },
  {
   "cell_type": "code",
   "execution_count": 6,
   "metadata": {},
   "outputs": [],
   "source": [
    "ds_q1 = within_ds.copy()"
   ]
  },
  {
   "cell_type": "code",
   "execution_count": 7,
   "metadata": {},
   "outputs": [],
   "source": [
    "ds_q1.sa['chunks'] = np.repeat(range(1,11), ds.shape[0]) \n",
    "ds_q1.sa['targets'] = ds_q1.sa['beh_tax']\n",
    "del ds_q1.sa['intents']"
   ]
  },
  {
   "cell_type": "raw",
   "metadata": {},
   "source": [
    "ds_q1.samples = ((ds_q1.samples - np.mean(ds_q1.samples, axis=1)[:, None])\n",
    "              / np.std(ds_q1.samples, axis=1)[:, None])"
   ]
  },
  {
   "cell_type": "code",
   "execution_count": 16,
   "metadata": {},
   "outputs": [],
   "source": [
    "mv.zscore(ds_q1)"
   ]
  },
  {
   "cell_type": "code",
   "execution_count": 17,
   "metadata": {},
   "outputs": [
    {
     "data": {
      "text/plain": [
       "array([    0,     1,     2, ..., 40959, 40960, 40961])"
      ]
     },
     "execution_count": 17,
     "metadata": {},
     "output_type": "execute_result"
    }
   ],
   "source": [
    "ds_q1.fa.node_indices"
   ]
  },
  {
   "cell_type": "markdown",
   "metadata": {},
   "source": [
    "## classification"
   ]
  },
  {
   "cell_type": "code",
   "execution_count": 18,
   "metadata": {},
   "outputs": [],
   "source": [
    "# setting up classifier\n",
    "clf = mv.LinearCSVMC() #space = 'targets'\n",
    "# cv = mv.CrossValidation(clf, mv.NFoldPartitioner())\n",
    "cv = mv.CrossValidation(clf, mv.NFoldPartitioner()) #attr='chunks', , errorfx=mv.mean_match_accuracy"
   ]
  },
  {
   "cell_type": "code",
   "execution_count": 19,
   "metadata": {},
   "outputs": [
    {
     "name": "stderr",
     "output_type": "stream",
     "text": [
      "/Users/h/anaconda3/envs/pymvpa_eng/lib/python2.7/site-packages/mvpa2/misc/attrmap.py:153: FutureWarning: Conversion of the second argument of issubdtype from `str` to `str` is deprecated. In future, it will be treated as `np.string_ == np.dtype(str).type`.\n",
      "  if not np.issubdtype(attr.dtype, str) and not self.mapnumeric:\n",
      "/Users/h/anaconda3/envs/pymvpa_eng/lib/python2.7/site-packages/mvpa2/clfs/libsvmc/svm.py:215: FutureWarning: Conversion of the second argument of issubdtype from `'c'` to `str` is deprecated. In future, it will be treated as `np.string_ == np.dtype('c').type`.\n",
      "  if ( np.issubdtype(self.ca.trained_targets.dtype, 'c') or\n"
     ]
    }
   ],
   "source": [
    "# cross validation (run as chunks) on one participants' glm gifti\n",
    "cv_within = cv(ds_q1)\n",
    "\n",
    "# why is the mean lower?"
   ]
  },
  {
   "cell_type": "code",
   "execution_count": 20,
   "metadata": {},
   "outputs": [
    {
     "data": {
      "text/plain": [
       "Dataset(array([[0.5 ],\n",
       "       [0.45],\n",
       "       [0.3 ],\n",
       "       [0.35],\n",
       "       [0.45],\n",
       "       [0.4 ],\n",
       "       [0.65],\n",
       "       [0.5 ],\n",
       "       [0.6 ],\n",
       "       [0.6 ]]), sa=SampleAttributesCollection(items=[ArrayCollectable(name='cvfolds', doc=None, value=array([0, 1, 2, 3, 4, 5, 6, 7, 8, 9]), length=10)]), fa=FeatureAttributesCollection(items=[]), a=DatasetAttributesCollection(items=[]))"
      ]
     },
     "execution_count": 20,
     "metadata": {},
     "output_type": "execute_result"
    }
   ],
   "source": [
    "cv_within"
   ]
  },
  {
   "cell_type": "code",
   "execution_count": 21,
   "metadata": {},
   "outputs": [
    {
     "data": {
      "text/plain": [
       "0.47999999999999987"
      ]
     },
     "execution_count": 21,
     "metadata": {},
     "output_type": "execute_result"
    }
   ],
   "source": [
    "np.mean(cv_within)"
   ]
  },
  {
   "cell_type": "markdown",
   "metadata": {},
   "source": [
    "## searchlight \n",
    "* reference: http://www.pymvpa.org/PyMVPA-Manual.pdf\n",
    "\n",
    "* converting lh.pial into lh.pial.gii <br>\n",
    "```/opt/freesurfer/5.3.0/subjects/fsaverage6/surf``` <br>\n",
    "```mris_convert lh.pial /dartfs-hpc/scratch/psyc164/groupXHD/lh.pial.gii```"
   ]
  },
  {
   "cell_type": "code",
   "execution_count": 22,
   "metadata": {},
   "outputs": [
    {
     "name": "stderr",
     "output_type": "stream",
     "text": [
      "/Users/h/anaconda3/envs/pymvpa_eng/lib/python2.7/site-packages/mvpa2/support/nibabel/surf_gifti.py:51: DeprecationWarning: giftiio.read function deprecated. Use nibabel.load() instead.\n",
      "\n",
      "* deprecated from version: 2.1\n",
      "* Will raise <class 'nibabel.deprecator.ExpiredDeprecationError'> as of version: 4.0\n",
      "  g = giftiio.read(fn)\n",
      "/Users/h/anaconda3/envs/pymvpa_eng/lib/python2.7/site-packages/mvpa2/support/nibabel/surf_gifti.py:25: DeprecationWarning: getArraysFromIntent method deprecated. Use get_arrays_from_intent instead.\n",
      "\n",
      "* deprecated from version: 2.1\n",
      "* Will raise <class 'nibabel.deprecator.ExpiredDeprecationError'> as of version: 4.0\n",
      "  ar = g.getArraysFromIntent(intent)\n"
     ]
    }
   ],
   "source": [
    "# version 1\n",
    "fsaverage_gii = '/Users/h/Documents/projects_local/cluster_projects/fs_templates/lh.pial.gii'\n",
    "# fsaverage_gii = '/Users/h/Documents/projects_local/cluster_projects/sub-rid000001_T1w_pial.L.surf.gii'\n",
    "# surf = nibabel.gifti.read(fsaverage_gii)\n",
    "surf = mv.surf.read(fsaverage_gii)\n",
    "# note: surf.vertices.shape (81920, 3) and surf.faces.shape (40962, 3) surface = surf, \n",
    "qe = mv.SurfaceQueryEngine(surf, radius = 10.0, \n",
    "                           distance_metric='dijkstra')\n",
    "\n",
    "# enable_ca=['roi_sizes'],roi_ids=cortical_vertices\n",
    "\n",
    "sl = mv.Searchlight(cv, queryengine=qe, nproc=1)"
   ]
  },
  {
   "cell_type": "code",
   "execution_count": 26,
   "metadata": {},
   "outputs": [
    {
     "name": "stdout",
     "output_type": "stream",
     "text": [
      "WARNING: Obtained degenerate data with zero norm for training of <LinearCSVMC>.  Scaling of C cannot be done.\n",
      " * Please note: warnings are printed only once, but underlying problem might occur many times *\n"
     ]
    },
    {
     "ename": "KeyboardInterrupt",
     "evalue": "",
     "output_type": "error",
     "traceback": [
      "\u001b[0;31m---------------------------------------------------------------------------\u001b[0m",
      "\u001b[0;31mKeyboardInterrupt\u001b[0m                         Traceback (most recent call last)",
      "\u001b[0;32m<ipython-input-26-4f03b9556e6d>\u001b[0m in \u001b[0;36m<module>\u001b[0;34m()\u001b[0m\n\u001b[0;32m----> 1\u001b[0;31m \u001b[0msl_q1\u001b[0m \u001b[0;34m=\u001b[0m \u001b[0msl\u001b[0m\u001b[0;34m(\u001b[0m\u001b[0mds_q1\u001b[0m\u001b[0;34m)\u001b[0m\u001b[0;34m\u001b[0m\u001b[0m\n\u001b[0m",
      "\u001b[0;32m/Users/h/anaconda3/envs/pymvpa_eng/lib/python2.7/site-packages/mvpa2/base/learner.pyc\u001b[0m in \u001b[0;36m__call__\u001b[0;34m(self, ds)\u001b[0m\n\u001b[1;32m    256\u001b[0m                                    \u001b[0;34m\"used and auto training is disabled.\"\u001b[0m\u001b[0;34m\u001b[0m\u001b[0m\n\u001b[1;32m    257\u001b[0m                                    % str(self))\n\u001b[0;32m--> 258\u001b[0;31m         \u001b[0;32mreturn\u001b[0m \u001b[0msuper\u001b[0m\u001b[0;34m(\u001b[0m\u001b[0mLearner\u001b[0m\u001b[0;34m,\u001b[0m \u001b[0mself\u001b[0m\u001b[0;34m)\u001b[0m\u001b[0;34m.\u001b[0m\u001b[0m__call__\u001b[0m\u001b[0;34m(\u001b[0m\u001b[0mds\u001b[0m\u001b[0;34m)\u001b[0m\u001b[0;34m\u001b[0m\u001b[0m\n\u001b[0m\u001b[1;32m    259\u001b[0m \u001b[0;34m\u001b[0m\u001b[0m\n\u001b[1;32m    260\u001b[0m     is_trained = property(fget=lambda x: x.__is_trained, fset=_set_trained,\n",
      "\u001b[0;32m/Users/h/anaconda3/envs/pymvpa_eng/lib/python2.7/site-packages/mvpa2/base/node.pyc\u001b[0m in \u001b[0;36m__call__\u001b[0;34m(self, ds, _call_kwargs)\u001b[0m\n\u001b[1;32m    135\u001b[0m \u001b[0;34m\u001b[0m\u001b[0m\n\u001b[1;32m    136\u001b[0m         \u001b[0mself\u001b[0m\u001b[0;34m.\u001b[0m\u001b[0m_precall\u001b[0m\u001b[0;34m(\u001b[0m\u001b[0mds\u001b[0m\u001b[0;34m)\u001b[0m\u001b[0;34m\u001b[0m\u001b[0m\n\u001b[0;32m--> 137\u001b[0;31m         \u001b[0mresult\u001b[0m \u001b[0;34m=\u001b[0m \u001b[0mself\u001b[0m\u001b[0;34m.\u001b[0m\u001b[0m_call\u001b[0m\u001b[0;34m(\u001b[0m\u001b[0mds\u001b[0m\u001b[0;34m,\u001b[0m \u001b[0;34m**\u001b[0m\u001b[0;34m(\u001b[0m\u001b[0m_call_kwargs\u001b[0m \u001b[0;32mor\u001b[0m \u001b[0mself\u001b[0m\u001b[0;34m.\u001b[0m\u001b[0m_get_call_kwargs\u001b[0m\u001b[0;34m(\u001b[0m\u001b[0mds\u001b[0m\u001b[0;34m)\u001b[0m\u001b[0;34m)\u001b[0m\u001b[0;34m)\u001b[0m\u001b[0;34m\u001b[0m\u001b[0m\n\u001b[0m\u001b[1;32m    138\u001b[0m         \u001b[0mresult\u001b[0m \u001b[0;34m=\u001b[0m \u001b[0mself\u001b[0m\u001b[0;34m.\u001b[0m\u001b[0m_postcall\u001b[0m\u001b[0;34m(\u001b[0m\u001b[0mds\u001b[0m\u001b[0;34m,\u001b[0m \u001b[0mresult\u001b[0m\u001b[0;34m)\u001b[0m\u001b[0;34m\u001b[0m\u001b[0m\n\u001b[1;32m    139\u001b[0m \u001b[0;34m\u001b[0m\u001b[0m\n",
      "\u001b[0;32m/Users/h/anaconda3/envs/pymvpa_eng/lib/python2.7/site-packages/mvpa2/measures/searchlight.pyc\u001b[0m in \u001b[0;36m_call\u001b[0;34m(self, dataset)\u001b[0m\n\u001b[1;32m    163\u001b[0m \u001b[0;34m\u001b[0m\u001b[0m\n\u001b[1;32m    164\u001b[0m         \u001b[0;31m# pass to subclass\u001b[0m\u001b[0;34m\u001b[0m\u001b[0;34m\u001b[0m\u001b[0m\n\u001b[0;32m--> 165\u001b[0;31m         \u001b[0mresults\u001b[0m \u001b[0;34m=\u001b[0m \u001b[0mself\u001b[0m\u001b[0;34m.\u001b[0m\u001b[0m_sl_call\u001b[0m\u001b[0;34m(\u001b[0m\u001b[0mdataset\u001b[0m\u001b[0;34m,\u001b[0m \u001b[0mroi_ids\u001b[0m\u001b[0;34m,\u001b[0m \u001b[0mnproc\u001b[0m\u001b[0;34m)\u001b[0m\u001b[0;34m\u001b[0m\u001b[0m\n\u001b[0m\u001b[1;32m    166\u001b[0m \u001b[0;34m\u001b[0m\u001b[0m\n\u001b[1;32m    167\u001b[0m         \u001b[0;32mif\u001b[0m \u001b[0;34m'mapper'\u001b[0m \u001b[0;32min\u001b[0m \u001b[0mdataset\u001b[0m\u001b[0;34m.\u001b[0m\u001b[0ma\u001b[0m\u001b[0;34m:\u001b[0m\u001b[0;34m\u001b[0m\u001b[0m\n",
      "\u001b[0;32m/Users/h/anaconda3/envs/pymvpa_eng/lib/python2.7/site-packages/mvpa2/measures/searchlight.pyc\u001b[0m in \u001b[0;36m_sl_call\u001b[0;34m(self, dataset, roi_ids, nproc)\u001b[0m\n\u001b[1;32m    398\u001b[0m             \u001b[0;31m# otherwise collect the results in an 1-item list\u001b[0m\u001b[0;34m\u001b[0m\u001b[0;34m\u001b[0m\u001b[0m\n\u001b[1;32m    399\u001b[0m             p_results = [\n\u001b[0;32m--> 400\u001b[0;31m                     proc_block(roi_ids, dataset, self.__datameasure)]\n\u001b[0m\u001b[1;32m    401\u001b[0m \u001b[0;34m\u001b[0m\u001b[0m\n\u001b[1;32m    402\u001b[0m         \u001b[0;31m# Finally collect and possibly process results\u001b[0m\u001b[0;34m\u001b[0m\u001b[0;34m\u001b[0m\u001b[0m\n",
      "\u001b[0;32m/Users/h/anaconda3/envs/pymvpa_eng/lib/python2.7/site-packages/mvpa2/measures/searchlight.pyc\u001b[0m in \u001b[0;36m_proc_block\u001b[0;34m(self, block, ds, measure, seed, iblock)\u001b[0m\n\u001b[1;32m    461\u001b[0m \u001b[0;34m\u001b[0m\u001b[0m\n\u001b[1;32m    462\u001b[0m         \u001b[0;32mfor\u001b[0m \u001b[0mi\u001b[0m\u001b[0;34m,\u001b[0m \u001b[0mf\u001b[0m \u001b[0;32min\u001b[0m \u001b[0menumerate\u001b[0m\u001b[0;34m(\u001b[0m\u001b[0mblock\u001b[0m\u001b[0;34m)\u001b[0m\u001b[0;34m:\u001b[0m\u001b[0;34m\u001b[0m\u001b[0m\n\u001b[0;32m--> 463\u001b[0;31m             \u001b[0mres\u001b[0m\u001b[0;34m,\u001b[0m \u001b[0mroi\u001b[0m \u001b[0;34m=\u001b[0m \u001b[0mself\u001b[0m\u001b[0;34m.\u001b[0m\u001b[0m__process_roi\u001b[0m\u001b[0;34m(\u001b[0m\u001b[0mds\u001b[0m\u001b[0;34m,\u001b[0m \u001b[0mf\u001b[0m\u001b[0;34m,\u001b[0m \u001b[0mmeasure\u001b[0m\u001b[0;34m,\u001b[0m \u001b[0massure_dataset\u001b[0m\u001b[0;34m)\u001b[0m\u001b[0;34m\u001b[0m\u001b[0m\n\u001b[0m\u001b[1;32m    464\u001b[0m             \u001b[0mresults\u001b[0m\u001b[0;34m.\u001b[0m\u001b[0mappend\u001b[0m\u001b[0;34m(\u001b[0m\u001b[0mres\u001b[0m\u001b[0;34m)\u001b[0m\u001b[0;34m\u001b[0m\u001b[0m\n\u001b[1;32m    465\u001b[0m \u001b[0;34m\u001b[0m\u001b[0m\n",
      "\u001b[0;32m/Users/h/anaconda3/envs/pymvpa_eng/lib/python2.7/site-packages/mvpa2/measures/searchlight.pyc\u001b[0m in \u001b[0;36m__process_roi\u001b[0;34m(self, ds, roi_feature_id, measure, assure_dataset)\u001b[0m\n\u001b[1;32m    523\u001b[0m \u001b[0;34m\u001b[0m\u001b[0m\n\u001b[1;32m    524\u001b[0m         \u001b[0;31m# compute the datameasure and store in results\u001b[0m\u001b[0;34m\u001b[0m\u001b[0;34m\u001b[0m\u001b[0m\n\u001b[0;32m--> 525\u001b[0;31m         \u001b[0mres\u001b[0m \u001b[0;34m=\u001b[0m \u001b[0mmeasure\u001b[0m\u001b[0;34m(\u001b[0m\u001b[0mroi\u001b[0m\u001b[0;34m)\u001b[0m\u001b[0;34m\u001b[0m\u001b[0m\n\u001b[0m\u001b[1;32m    526\u001b[0m         \u001b[0;32mif\u001b[0m \u001b[0massure_dataset\u001b[0m \u001b[0;32mand\u001b[0m \u001b[0;32mnot\u001b[0m \u001b[0mis_datasetlike\u001b[0m\u001b[0;34m(\u001b[0m\u001b[0mres\u001b[0m\u001b[0;34m)\u001b[0m\u001b[0;34m:\u001b[0m\u001b[0;34m\u001b[0m\u001b[0m\n\u001b[1;32m    527\u001b[0m             \u001b[0mres\u001b[0m \u001b[0;34m=\u001b[0m \u001b[0mDataset\u001b[0m\u001b[0;34m(\u001b[0m\u001b[0mnp\u001b[0m\u001b[0;34m.\u001b[0m\u001b[0matleast_1d\u001b[0m\u001b[0;34m(\u001b[0m\u001b[0mres\u001b[0m\u001b[0;34m)\u001b[0m\u001b[0;34m)\u001b[0m\u001b[0;34m\u001b[0m\u001b[0m\n",
      "\u001b[0;32m/Users/h/anaconda3/envs/pymvpa_eng/lib/python2.7/site-packages/mvpa2/base/learner.pyc\u001b[0m in \u001b[0;36m__call__\u001b[0;34m(self, ds)\u001b[0m\n\u001b[1;32m    256\u001b[0m                                    \u001b[0;34m\"used and auto training is disabled.\"\u001b[0m\u001b[0;34m\u001b[0m\u001b[0m\n\u001b[1;32m    257\u001b[0m                                    % str(self))\n\u001b[0;32m--> 258\u001b[0;31m         \u001b[0;32mreturn\u001b[0m \u001b[0msuper\u001b[0m\u001b[0;34m(\u001b[0m\u001b[0mLearner\u001b[0m\u001b[0;34m,\u001b[0m \u001b[0mself\u001b[0m\u001b[0;34m)\u001b[0m\u001b[0;34m.\u001b[0m\u001b[0m__call__\u001b[0m\u001b[0;34m(\u001b[0m\u001b[0mds\u001b[0m\u001b[0;34m)\u001b[0m\u001b[0;34m\u001b[0m\u001b[0m\n\u001b[0m\u001b[1;32m    259\u001b[0m \u001b[0;34m\u001b[0m\u001b[0m\n\u001b[1;32m    260\u001b[0m     is_trained = property(fget=lambda x: x.__is_trained, fset=_set_trained,\n",
      "\u001b[0;32m/Users/h/anaconda3/envs/pymvpa_eng/lib/python2.7/site-packages/mvpa2/base/node.pyc\u001b[0m in \u001b[0;36m__call__\u001b[0;34m(self, ds, _call_kwargs)\u001b[0m\n\u001b[1;32m    135\u001b[0m \u001b[0;34m\u001b[0m\u001b[0m\n\u001b[1;32m    136\u001b[0m         \u001b[0mself\u001b[0m\u001b[0;34m.\u001b[0m\u001b[0m_precall\u001b[0m\u001b[0;34m(\u001b[0m\u001b[0mds\u001b[0m\u001b[0;34m)\u001b[0m\u001b[0;34m\u001b[0m\u001b[0m\n\u001b[0;32m--> 137\u001b[0;31m         \u001b[0mresult\u001b[0m \u001b[0;34m=\u001b[0m \u001b[0mself\u001b[0m\u001b[0;34m.\u001b[0m\u001b[0m_call\u001b[0m\u001b[0;34m(\u001b[0m\u001b[0mds\u001b[0m\u001b[0;34m,\u001b[0m \u001b[0;34m**\u001b[0m\u001b[0;34m(\u001b[0m\u001b[0m_call_kwargs\u001b[0m \u001b[0;32mor\u001b[0m \u001b[0mself\u001b[0m\u001b[0;34m.\u001b[0m\u001b[0m_get_call_kwargs\u001b[0m\u001b[0;34m(\u001b[0m\u001b[0mds\u001b[0m\u001b[0;34m)\u001b[0m\u001b[0;34m)\u001b[0m\u001b[0;34m)\u001b[0m\u001b[0;34m\u001b[0m\u001b[0m\n\u001b[0m\u001b[1;32m    138\u001b[0m         \u001b[0mresult\u001b[0m \u001b[0;34m=\u001b[0m \u001b[0mself\u001b[0m\u001b[0;34m.\u001b[0m\u001b[0m_postcall\u001b[0m\u001b[0;34m(\u001b[0m\u001b[0mds\u001b[0m\u001b[0;34m,\u001b[0m \u001b[0mresult\u001b[0m\u001b[0;34m)\u001b[0m\u001b[0;34m\u001b[0m\u001b[0m\n\u001b[1;32m    139\u001b[0m \u001b[0;34m\u001b[0m\u001b[0m\n",
      "\u001b[0;32m/Users/h/anaconda3/envs/pymvpa_eng/lib/python2.7/site-packages/mvpa2/measures/base.pyc\u001b[0m in \u001b[0;36m_call\u001b[0;34m(self, ds)\u001b[0m\n\u001b[1;32m    512\u001b[0m         \u001b[0;31m# always untrain to wipe out previous stats\u001b[0m\u001b[0;34m\u001b[0m\u001b[0;34m\u001b[0m\u001b[0m\n\u001b[1;32m    513\u001b[0m         \u001b[0mself\u001b[0m\u001b[0;34m.\u001b[0m\u001b[0muntrain\u001b[0m\u001b[0;34m(\u001b[0m\u001b[0;34m)\u001b[0m\u001b[0;34m\u001b[0m\u001b[0m\n\u001b[0;32m--> 514\u001b[0;31m         \u001b[0;32mreturn\u001b[0m \u001b[0msuper\u001b[0m\u001b[0;34m(\u001b[0m\u001b[0mCrossValidation\u001b[0m\u001b[0;34m,\u001b[0m \u001b[0mself\u001b[0m\u001b[0;34m)\u001b[0m\u001b[0;34m.\u001b[0m\u001b[0m_call\u001b[0m\u001b[0;34m(\u001b[0m\u001b[0mds\u001b[0m\u001b[0;34m)\u001b[0m\u001b[0;34m\u001b[0m\u001b[0m\n\u001b[0m\u001b[1;32m    515\u001b[0m \u001b[0;34m\u001b[0m\u001b[0m\n\u001b[1;32m    516\u001b[0m \u001b[0;34m\u001b[0m\u001b[0m\n",
      "\u001b[0;32m/Users/h/anaconda3/envs/pymvpa_eng/lib/python2.7/site-packages/mvpa2/measures/base.pyc\u001b[0m in \u001b[0;36m_call\u001b[0;34m(self, ds)\u001b[0m\n\u001b[1;32m    335\u001b[0m                 \u001b[0mca\u001b[0m\u001b[0;34m.\u001b[0m\u001b[0mdatasets\u001b[0m\u001b[0;34m.\u001b[0m\u001b[0mappend\u001b[0m\u001b[0;34m(\u001b[0m\u001b[0msds\u001b[0m\u001b[0;34m)\u001b[0m\u001b[0;34m\u001b[0m\u001b[0m\n\u001b[1;32m    336\u001b[0m             \u001b[0;31m# run the beast\u001b[0m\u001b[0;34m\u001b[0m\u001b[0;34m\u001b[0m\u001b[0m\n\u001b[0;32m--> 337\u001b[0;31m             \u001b[0mresult\u001b[0m \u001b[0;34m=\u001b[0m \u001b[0mnode\u001b[0m\u001b[0;34m(\u001b[0m\u001b[0msds\u001b[0m\u001b[0;34m)\u001b[0m\u001b[0;34m\u001b[0m\u001b[0m\n\u001b[0m\u001b[1;32m    338\u001b[0m             \u001b[0;31m# callback\u001b[0m\u001b[0;34m\u001b[0m\u001b[0;34m\u001b[0m\u001b[0m\n\u001b[1;32m    339\u001b[0m             \u001b[0;32mif\u001b[0m \u001b[0mself\u001b[0m\u001b[0;34m.\u001b[0m\u001b[0m_callback\u001b[0m \u001b[0;32mis\u001b[0m \u001b[0;32mnot\u001b[0m \u001b[0mNone\u001b[0m\u001b[0;34m:\u001b[0m\u001b[0;34m\u001b[0m\u001b[0m\n",
      "\u001b[0;32m/Users/h/anaconda3/envs/pymvpa_eng/lib/python2.7/site-packages/mvpa2/base/learner.pyc\u001b[0m in \u001b[0;36m__call__\u001b[0;34m(self, ds)\u001b[0m\n\u001b[1;32m    256\u001b[0m                                    \u001b[0;34m\"used and auto training is disabled.\"\u001b[0m\u001b[0;34m\u001b[0m\u001b[0m\n\u001b[1;32m    257\u001b[0m                                    % str(self))\n\u001b[0;32m--> 258\u001b[0;31m         \u001b[0;32mreturn\u001b[0m \u001b[0msuper\u001b[0m\u001b[0;34m(\u001b[0m\u001b[0mLearner\u001b[0m\u001b[0;34m,\u001b[0m \u001b[0mself\u001b[0m\u001b[0;34m)\u001b[0m\u001b[0;34m.\u001b[0m\u001b[0m__call__\u001b[0m\u001b[0;34m(\u001b[0m\u001b[0mds\u001b[0m\u001b[0;34m)\u001b[0m\u001b[0;34m\u001b[0m\u001b[0m\n\u001b[0m\u001b[1;32m    259\u001b[0m \u001b[0;34m\u001b[0m\u001b[0m\n\u001b[1;32m    260\u001b[0m     is_trained = property(fget=lambda x: x.__is_trained, fset=_set_trained,\n",
      "\u001b[0;32m/Users/h/anaconda3/envs/pymvpa_eng/lib/python2.7/site-packages/mvpa2/base/node.pyc\u001b[0m in \u001b[0;36m__call__\u001b[0;34m(self, ds, _call_kwargs)\u001b[0m\n\u001b[1;32m    135\u001b[0m \u001b[0;34m\u001b[0m\u001b[0m\n\u001b[1;32m    136\u001b[0m         \u001b[0mself\u001b[0m\u001b[0;34m.\u001b[0m\u001b[0m_precall\u001b[0m\u001b[0;34m(\u001b[0m\u001b[0mds\u001b[0m\u001b[0;34m)\u001b[0m\u001b[0;34m\u001b[0m\u001b[0m\n\u001b[0;32m--> 137\u001b[0;31m         \u001b[0mresult\u001b[0m \u001b[0;34m=\u001b[0m \u001b[0mself\u001b[0m\u001b[0;34m.\u001b[0m\u001b[0m_call\u001b[0m\u001b[0;34m(\u001b[0m\u001b[0mds\u001b[0m\u001b[0;34m,\u001b[0m \u001b[0;34m**\u001b[0m\u001b[0;34m(\u001b[0m\u001b[0m_call_kwargs\u001b[0m \u001b[0;32mor\u001b[0m \u001b[0mself\u001b[0m\u001b[0;34m.\u001b[0m\u001b[0m_get_call_kwargs\u001b[0m\u001b[0;34m(\u001b[0m\u001b[0mds\u001b[0m\u001b[0;34m)\u001b[0m\u001b[0;34m)\u001b[0m\u001b[0;34m)\u001b[0m\u001b[0;34m\u001b[0m\u001b[0m\n\u001b[0m\u001b[1;32m    138\u001b[0m         \u001b[0mresult\u001b[0m \u001b[0;34m=\u001b[0m \u001b[0mself\u001b[0m\u001b[0;34m.\u001b[0m\u001b[0m_postcall\u001b[0m\u001b[0;34m(\u001b[0m\u001b[0mds\u001b[0m\u001b[0;34m,\u001b[0m \u001b[0mresult\u001b[0m\u001b[0;34m)\u001b[0m\u001b[0;34m\u001b[0m\u001b[0m\n\u001b[1;32m    139\u001b[0m \u001b[0;34m\u001b[0m\u001b[0m\n",
      "\u001b[0;32m/Users/h/anaconda3/envs/pymvpa_eng/lib/python2.7/site-packages/mvpa2/measures/base.pyc\u001b[0m in \u001b[0;36m_call\u001b[0;34m(self, ds)\u001b[0m\n\u001b[1;32m    617\u001b[0m                     for i in dstrain.get_attr(splitter.get_space())[0].unique])\n\u001b[1;32m    618\u001b[0m         \u001b[0;31m# ask splitter for first part\u001b[0m\u001b[0;34m\u001b[0m\u001b[0;34m\u001b[0m\u001b[0m\n\u001b[0;32m--> 619\u001b[0;31m         \u001b[0mmeasure\u001b[0m\u001b[0;34m.\u001b[0m\u001b[0mtrain\u001b[0m\u001b[0;34m(\u001b[0m\u001b[0mdstrain\u001b[0m\u001b[0;34m)\u001b[0m\u001b[0;34m\u001b[0m\u001b[0m\n\u001b[0m\u001b[1;32m    620\u001b[0m         \u001b[0;31m# cleanup to free memory\u001b[0m\u001b[0;34m\u001b[0m\u001b[0;34m\u001b[0m\u001b[0m\n\u001b[1;32m    621\u001b[0m         \u001b[0;32mdel\u001b[0m \u001b[0mdstrain\u001b[0m\u001b[0;34m\u001b[0m\u001b[0m\n",
      "\u001b[0;32m/Users/h/anaconda3/envs/pymvpa_eng/lib/python2.7/site-packages/mvpa2/base/learner.pyc\u001b[0m in \u001b[0;36mtrain\u001b[0;34m(self, ds)\u001b[0m\n\u001b[1;32m    127\u001b[0m                 msgargs={'lrn': self, 'dataset': ds})\n\u001b[1;32m    128\u001b[0m \u001b[0;34m\u001b[0m\u001b[0m\n\u001b[0;32m--> 129\u001b[0;31m         \u001b[0mself\u001b[0m\u001b[0;34m.\u001b[0m\u001b[0m_pretrain\u001b[0m\u001b[0;34m(\u001b[0m\u001b[0mds\u001b[0m\u001b[0;34m)\u001b[0m\u001b[0;34m\u001b[0m\u001b[0m\n\u001b[0m\u001b[1;32m    130\u001b[0m \u001b[0;34m\u001b[0m\u001b[0m\n\u001b[1;32m    131\u001b[0m         \u001b[0;31m# remember the time when started training\u001b[0m\u001b[0;34m\u001b[0m\u001b[0;34m\u001b[0m\u001b[0m\n",
      "\u001b[0;32m/Users/h/anaconda3/envs/pymvpa_eng/lib/python2.7/site-packages/mvpa2/clfs/base.pyc\u001b[0m in \u001b[0;36m_pretrain\u001b[0;34m(self, dataset)\u001b[0m\n\u001b[1;32m    179\u001b[0m         \u001b[0mparams\u001b[0m \u001b[0;34m=\u001b[0m \u001b[0mself\u001b[0m\u001b[0;34m.\u001b[0m\u001b[0mparams\u001b[0m\u001b[0;34m\u001b[0m\u001b[0m\n\u001b[1;32m    180\u001b[0m         \u001b[0;32mif\u001b[0m \u001b[0;32mnot\u001b[0m \u001b[0mparams\u001b[0m\u001b[0;34m.\u001b[0m\u001b[0mretrainable\u001b[0m\u001b[0;34m:\u001b[0m\u001b[0;34m\u001b[0m\u001b[0m\n\u001b[0;32m--> 181\u001b[0;31m             \u001b[0mself\u001b[0m\u001b[0;34m.\u001b[0m\u001b[0muntrain\u001b[0m\u001b[0;34m(\u001b[0m\u001b[0;34m)\u001b[0m\u001b[0;34m\u001b[0m\u001b[0m\n\u001b[0m\u001b[1;32m    182\u001b[0m         \u001b[0;32melse\u001b[0m\u001b[0;34m:\u001b[0m\u001b[0;34m\u001b[0m\u001b[0m\n\u001b[1;32m    183\u001b[0m             \u001b[0;31m# just reset the ca, do not untrain\u001b[0m\u001b[0;34m\u001b[0m\u001b[0;34m\u001b[0m\u001b[0m\n",
      "\u001b[0;32m/Users/h/anaconda3/envs/pymvpa_eng/lib/python2.7/site-packages/mvpa2/base/learner.pyc\u001b[0m in \u001b[0;36muntrain\u001b[0;34m(self)\u001b[0m\n\u001b[1;32m    172\u001b[0m         \u001b[0;31m# TODO evaluate whether this should also reset the nodes collections, or\u001b[0m\u001b[0;34m\u001b[0m\u001b[0;34m\u001b[0m\u001b[0m\n\u001b[1;32m    173\u001b[0m         \u001b[0;31m# whether that should be done by a more general reset() method\u001b[0m\u001b[0;34m\u001b[0m\u001b[0;34m\u001b[0m\u001b[0m\n\u001b[0;32m--> 174\u001b[0;31m         \u001b[0mself\u001b[0m\u001b[0;34m.\u001b[0m\u001b[0mreset\u001b[0m\u001b[0;34m(\u001b[0m\u001b[0;34m)\u001b[0m\u001b[0;34m\u001b[0m\u001b[0m\n\u001b[0m\u001b[1;32m    175\u001b[0m \u001b[0;34m\u001b[0m\u001b[0m\n\u001b[1;32m    176\u001b[0m     \u001b[0;32mdef\u001b[0m \u001b[0m_untrain\u001b[0m\u001b[0;34m(\u001b[0m\u001b[0mself\u001b[0m\u001b[0;34m)\u001b[0m\u001b[0;34m:\u001b[0m\u001b[0;34m\u001b[0m\u001b[0m\n",
      "\u001b[0;32m/Users/h/anaconda3/envs/pymvpa_eng/lib/python2.7/site-packages/mvpa2/base/state.pyc\u001b[0m in \u001b[0;36mreset\u001b[0;34m(self)\u001b[0m\n\u001b[1;32m   1002\u001b[0m     \u001b[0;32mdef\u001b[0m \u001b[0mreset\u001b[0m\u001b[0;34m(\u001b[0m\u001b[0mself\u001b[0m\u001b[0;34m)\u001b[0m\u001b[0;34m:\u001b[0m\u001b[0;34m\u001b[0m\u001b[0m\n\u001b[1;32m   1003\u001b[0m         \u001b[0;32mfor\u001b[0m \u001b[0mcollection\u001b[0m \u001b[0;32min\u001b[0m \u001b[0mself\u001b[0m\u001b[0;34m.\u001b[0m\u001b[0m_collections\u001b[0m\u001b[0;34m.\u001b[0m\u001b[0mvalues\u001b[0m\u001b[0;34m(\u001b[0m\u001b[0;34m)\u001b[0m\u001b[0;34m:\u001b[0m\u001b[0;34m\u001b[0m\u001b[0m\n\u001b[0;32m-> 1004\u001b[0;31m             \u001b[0mcollection\u001b[0m\u001b[0;34m.\u001b[0m\u001b[0mreset\u001b[0m\u001b[0;34m(\u001b[0m\u001b[0;34m)\u001b[0m\u001b[0;34m\u001b[0m\u001b[0m\n\u001b[0m\u001b[1;32m   1005\u001b[0m \u001b[0;34m\u001b[0m\u001b[0m\n\u001b[1;32m   1006\u001b[0m \u001b[0;34m\u001b[0m\u001b[0m\n",
      "\u001b[0;32m/Users/h/anaconda3/envs/pymvpa_eng/lib/python2.7/site-packages/mvpa2/base/state.pyc\u001b[0m in \u001b[0;36mreset\u001b[0;34m(self, key)\u001b[0m\n\u001b[1;32m    288\u001b[0m                 \u001b[0;31m# XXX Check if that works as desired\u001b[0m\u001b[0;34m\u001b[0m\u001b[0;34m\u001b[0m\u001b[0m\n\u001b[1;32m    289\u001b[0m                 self._action(key, self.values()[0].__class__.reset,\n\u001b[0;32m--> 290\u001b[0;31m                              missingok=False)\n\u001b[0m\u001b[1;32m    291\u001b[0m \u001b[0;34m\u001b[0m\u001b[0m\n\u001b[1;32m    292\u001b[0m     \u001b[0;31m# XXX RF: not used anywhere / myself -- hence not worth it?\u001b[0m\u001b[0;34m\u001b[0m\u001b[0;34m\u001b[0m\u001b[0m\n",
      "\u001b[0;32m/Users/h/anaconda3/envs/pymvpa_eng/lib/python2.7/site-packages/mvpa2/base/state.pyc\u001b[0m in \u001b[0;36m_action\u001b[0;34m(self, key, func, missingok, **kwargs)\u001b[0m\n\u001b[1;32m    263\u001b[0m             \u001b[0;32melse\u001b[0m\u001b[0;34m:\u001b[0m\u001b[0;34m\u001b[0m\u001b[0m\n\u001b[1;32m    264\u001b[0m                 \u001b[0;32mtry\u001b[0m\u001b[0;34m:\u001b[0m\u001b[0;34m\u001b[0m\u001b[0m\n\u001b[0;32m--> 265\u001b[0;31m                     \u001b[0mfunc\u001b[0m\u001b[0;34m(\u001b[0m\u001b[0mself\u001b[0m\u001b[0;34m[\u001b[0m\u001b[0mkey\u001b[0m\u001b[0;34m]\u001b[0m\u001b[0;34m,\u001b[0m \u001b[0;34m**\u001b[0m\u001b[0mkwargs\u001b[0m\u001b[0;34m)\u001b[0m\u001b[0;34m\u001b[0m\u001b[0m\n\u001b[0m\u001b[1;32m    266\u001b[0m                 \u001b[0;32mexcept\u001b[0m\u001b[0;34m:\u001b[0m\u001b[0;34m\u001b[0m\u001b[0m\n\u001b[1;32m    267\u001b[0m                     \u001b[0;32mif\u001b[0m \u001b[0mmissingok\u001b[0m\u001b[0;34m:\u001b[0m\u001b[0;34m\u001b[0m\u001b[0m\n",
      "\u001b[0;32m/Users/h/anaconda3/envs/pymvpa_eng/lib/python2.7/site-packages/mvpa2/base/attributes.pyc\u001b[0m in \u001b[0;36mreset\u001b[0;34m(self)\u001b[0m\n\u001b[1;32m    200\u001b[0m         \u001b[0;34m\"\"\"Simply detach the value, and reset the flag\"\"\"\u001b[0m\u001b[0;34m\u001b[0m\u001b[0m\n\u001b[1;32m    201\u001b[0m         \u001b[0mIndexedCollectable\u001b[0m\u001b[0;34m.\u001b[0m\u001b[0mreset\u001b[0m\u001b[0;34m(\u001b[0m\u001b[0mself\u001b[0m\u001b[0;34m)\u001b[0m\u001b[0;34m\u001b[0m\u001b[0m\n\u001b[0;32m--> 202\u001b[0;31m         \u001b[0mself\u001b[0m\u001b[0;34m.\u001b[0m\u001b[0m_value\u001b[0m \u001b[0;34m=\u001b[0m \u001b[0mNone\u001b[0m\u001b[0;34m\u001b[0m\u001b[0m\n\u001b[0m\u001b[1;32m    203\u001b[0m \u001b[0;34m\u001b[0m\u001b[0m\n\u001b[1;32m    204\u001b[0m \u001b[0;34m\u001b[0m\u001b[0m\n",
      "\u001b[0;31mKeyboardInterrupt\u001b[0m: "
     ]
    }
   ],
   "source": [
    "sl_q1 = sl(ds_q1)"
   ]
  },
  {
   "cell_type": "code",
   "execution_count": 25,
   "metadata": {},
   "outputs": [
    {
     "ename": "NameError",
     "evalue": "name 'fwm' is not defined",
     "output_type": "error",
     "traceback": [
      "\u001b[0;31m---------------------------------------------------------------------------\u001b[0m",
      "\u001b[0;31mNameError\u001b[0m                                 Traceback (most recent call last)",
      "\u001b[0;32m<ipython-input-25-4fa8f3467536>\u001b[0m in \u001b[0;36m<module>\u001b[0;34m()\u001b[0m\n\u001b[1;32m      1\u001b[0m \u001b[0msearchlight_q1_filename\u001b[0m \u001b[0;34m=\u001b[0m \u001b[0mos\u001b[0m\u001b[0;34m.\u001b[0m\u001b[0mpath\u001b[0m\u001b[0;34m.\u001b[0m\u001b[0mjoin\u001b[0m\u001b[0;34m(\u001b[0m\u001b[0mmain_dir\u001b[0m\u001b[0;34m,\u001b[0m \u001b[0;34m'analysis'\u001b[0m\u001b[0;34m,\u001b[0m \u001b[0;34m'searchlight'\u001b[0m\u001b[0;34m,\u001b[0m \u001b[0msub_name\u001b[0m \u001b[0;34m+\u001b[0m \u001b[0;34m'.gii'\u001b[0m\u001b[0;34m)\u001b[0m\u001b[0;34m\u001b[0m\u001b[0m\n\u001b[0;32m----> 2\u001b[0;31m \u001b[0mnimg\u001b[0m \u001b[0;34m=\u001b[0m \u001b[0mmv\u001b[0m\u001b[0;34m.\u001b[0m\u001b[0mmap2gifti\u001b[0m\u001b[0;34m(\u001b[0m\u001b[0mfwm\u001b[0m\u001b[0;34m,\u001b[0m \u001b[0mfilename\u001b[0m\u001b[0;34m,\u001b[0m \u001b[0mencoding\u001b[0m\u001b[0;34m=\u001b[0m\u001b[0;34m'GIFTI_ENCODING_B64GZ'\u001b[0m\u001b[0;34m,\u001b[0m \u001b[0msurface\u001b[0m\u001b[0;34m=\u001b[0m\u001b[0msurf\u001b[0m\u001b[0;34m)\u001b[0m\u001b[0;34m\u001b[0m\u001b[0m\n\u001b[0m",
      "\u001b[0;31mNameError\u001b[0m: name 'fwm' is not defined"
     ]
    }
   ],
   "source": [
    "searchlight_q1_filename = os.path.join(main_dir, 'analysis', 'searchlight', sub_name + '.gii')\n",
    "nimg = mv.map2gifti(fwm, filename, encoding='GIFTI_ENCODING_B64GZ', surface=surf)"
   ]
  },
  {
   "cell_type": "markdown",
   "metadata": {},
   "source": [
    "# Classify taxa (1 out of 5), training on videos with 3 behaviors and testing on videos with the left-out behavior.\n",
    "* chunk is now behavior\n",
    "* target is taxa"
   ]
  },
  {
   "cell_type": "code",
   "execution_count": 397,
   "metadata": {},
   "outputs": [],
   "source": [
    "# classify on taxanomy, cv with behavior\n",
    "ds_q2 = within_ds.copy()\n",
    "ds_q2.sa['chunks'] = ds_q2.sa['beh']\n",
    "ds_q2.sa['target'] = ds_q2.sa['tax']\n",
    "del ds_q2.sa['intents']"
   ]
  },
  {
   "cell_type": "code",
   "execution_count": 404,
   "metadata": {},
   "outputs": [
    {
     "data": {
      "text/plain": [
       "Dataset(array([[  3.9534876 ,  -0.43695655, -10.585636  , ...,   4.8139644 ,\n",
       "          0.20275442,  -1.1942437 ],\n",
       "       [  1.2697178 ,  -7.199501  , -11.044861  , ...,  -3.4059372 ,\n",
       "         -1.4120976 ,  -1.1120566 ],\n",
       "       [  4.230085  ,  -2.5236893 , -17.407463  , ...,  -6.259083  ,\n",
       "         -6.1621137 ,  -2.53753   ],\n",
       "       ...,\n",
       "       [  2.4272716 ,  -4.728557  , -20.483679  , ...,  -9.10487   ,\n",
       "         -8.90564   ,  -2.8355129 ],\n",
       "       [ -6.7157383 ,  -5.1460204 ,  -2.2242303 , ...,   8.366821  ,\n",
       "          3.2633743 ,  -6.341244  ],\n",
       "       [ -0.04155796,  -3.311609  ,   0.74648255, ...,  10.623682  ,\n",
       "          7.109033  ,   2.0199761 ]], dtype=float32), sa=SampleAttributesCollection(items=[ArrayCollectable(name='run', doc=None, value=array([1, 1, 1, 1, 1, 1, 1, 1, 1, 1, 1, 1, 1, 1, 1, 1, 1, 1, 1, 1, 2, 2,\n",
       "       2, 2, 2, 2, 2, 2, 2, 2, 2, 2, 2, 2, 2, 2, 2, 2, 2, 2, 3, 3, 3, 3,\n",
       "       3, 3, 3, 3, 3, 3, 3, 3, 3, 3, 3, 3, 3, 3, 3, 3, 4, 4, 4, 4, 4, 4,\n",
       "       4, 4, 4, 4, 4, 4, 4, 4, 4, 4, 4, 4, 4, 4, 5, 5, 5, 5, 5, 5, 5, 5,\n",
       "       5, 5, 5, 5, 5, 5, 5, 5, 5, 5, 5, 5, 1, 1, 1, 1, 1, 1, 1, 1, 1, 1,\n",
       "       1, 1, 1, 1, 1, 1, 1, 1, 1, 1, 2, 2, 2, 2, 2, 2, 2, 2, 2, 2, 2, 2,\n",
       "       2, 2, 2, 2, 2, 2, 2, 2, 3, 3, 3, 3, 3, 3, 3, 3, 3, 3, 3, 3, 3, 3,\n",
       "       3, 3, 3, 3, 3, 3, 4, 4, 4, 4, 4, 4, 4, 4, 4, 4, 4, 4, 4, 4, 4, 4,\n",
       "       4, 4, 4, 4, 5, 5, 5, 5, 5, 5, 5, 5, 5, 5, 5, 5, 5, 5, 5, 5, 5, 5,\n",
       "       5, 5]), length=200), ArrayCollectable(name='target', doc=None, value=array(['bird', 'bird', 'bird', 'bird', 'insect', 'insect', 'insect',\n",
       "       'insect', 'primate', 'primate', 'primate', 'primate', 'reptile',\n",
       "       'reptile', 'reptile', 'reptile', 'ungulate', 'ungulate',\n",
       "       'ungulate', 'ungulate', 'bird', 'bird', 'bird', 'bird', 'insect',\n",
       "       'insect', 'insect', 'insect', 'primate', 'primate', 'primate',\n",
       "       'primate', 'reptile', 'reptile', 'reptile', 'reptile', 'ungulate',\n",
       "       'ungulate', 'ungulate', 'ungulate', 'bird', 'bird', 'bird', 'bird',\n",
       "       'insect', 'insect', 'insect', 'insect', 'primate', 'primate',\n",
       "       'primate', 'primate', 'reptile', 'reptile', 'reptile', 'reptile',\n",
       "       'ungulate', 'ungulate', 'ungulate', 'ungulate', 'bird', 'bird',\n",
       "       'bird', 'bird', 'insect', 'insect', 'insect', 'insect', 'primate',\n",
       "       'primate', 'primate', 'primate', 'reptile', 'reptile', 'reptile',\n",
       "       'reptile', 'ungulate', 'ungulate', 'ungulate', 'ungulate', 'bird',\n",
       "       'bird', 'bird', 'bird', 'insect', 'insect', 'insect', 'insect',\n",
       "       'primate', 'primate', 'primate', 'primate', 'reptile', 'reptile',\n",
       "       'reptile', 'reptile', 'ungulate', 'ungulate', 'ungulate',\n",
       "       'ungulate', 'bird', 'bird', 'bird', 'bird', 'insect', 'insect',\n",
       "       'insect', 'insect', 'primate', 'primate', 'primate', 'primate',\n",
       "       'reptile', 'reptile', 'reptile', 'reptile', 'ungulate', 'ungulate',\n",
       "       'ungulate', 'ungulate', 'bird', 'bird', 'bird', 'bird', 'insect',\n",
       "       'insect', 'insect', 'insect', 'primate', 'primate', 'primate',\n",
       "       'primate', 'reptile', 'reptile', 'reptile', 'reptile', 'ungulate',\n",
       "       'ungulate', 'ungulate', 'ungulate', 'bird', 'bird', 'bird', 'bird',\n",
       "       'insect', 'insect', 'insect', 'insect', 'primate', 'primate',\n",
       "       'primate', 'primate', 'reptile', 'reptile', 'reptile', 'reptile',\n",
       "       'ungulate', 'ungulate', 'ungulate', 'ungulate', 'bird', 'bird',\n",
       "       'bird', 'bird', 'insect', 'insect', 'insect', 'insect', 'primate',\n",
       "       'primate', 'primate', 'primate', 'reptile', 'reptile', 'reptile',\n",
       "       'reptile', 'ungulate', 'ungulate', 'ungulate', 'ungulate', 'bird',\n",
       "       'bird', 'bird', 'bird', 'insect', 'insect', 'insect', 'insect',\n",
       "       'primate', 'primate', 'primate', 'primate', 'reptile', 'reptile',\n",
       "       'reptile', 'reptile', 'ungulate', 'ungulate', 'ungulate',\n",
       "       'ungulate'], dtype='|S8'), length=200), ArrayCollectable(name='tax', doc=None, value=array(['bird', 'bird', 'bird', 'bird', 'insect', 'insect', 'insect',\n",
       "       'insect', 'primate', 'primate', 'primate', 'primate', 'reptile',\n",
       "       'reptile', 'reptile', 'reptile', 'ungulate', 'ungulate',\n",
       "       'ungulate', 'ungulate', 'bird', 'bird', 'bird', 'bird', 'insect',\n",
       "       'insect', 'insect', 'insect', 'primate', 'primate', 'primate',\n",
       "       'primate', 'reptile', 'reptile', 'reptile', 'reptile', 'ungulate',\n",
       "       'ungulate', 'ungulate', 'ungulate', 'bird', 'bird', 'bird', 'bird',\n",
       "       'insect', 'insect', 'insect', 'insect', 'primate', 'primate',\n",
       "       'primate', 'primate', 'reptile', 'reptile', 'reptile', 'reptile',\n",
       "       'ungulate', 'ungulate', 'ungulate', 'ungulate', 'bird', 'bird',\n",
       "       'bird', 'bird', 'insect', 'insect', 'insect', 'insect', 'primate',\n",
       "       'primate', 'primate', 'primate', 'reptile', 'reptile', 'reptile',\n",
       "       'reptile', 'ungulate', 'ungulate', 'ungulate', 'ungulate', 'bird',\n",
       "       'bird', 'bird', 'bird', 'insect', 'insect', 'insect', 'insect',\n",
       "       'primate', 'primate', 'primate', 'primate', 'reptile', 'reptile',\n",
       "       'reptile', 'reptile', 'ungulate', 'ungulate', 'ungulate',\n",
       "       'ungulate', 'bird', 'bird', 'bird', 'bird', 'insect', 'insect',\n",
       "       'insect', 'insect', 'primate', 'primate', 'primate', 'primate',\n",
       "       'reptile', 'reptile', 'reptile', 'reptile', 'ungulate', 'ungulate',\n",
       "       'ungulate', 'ungulate', 'bird', 'bird', 'bird', 'bird', 'insect',\n",
       "       'insect', 'insect', 'insect', 'primate', 'primate', 'primate',\n",
       "       'primate', 'reptile', 'reptile', 'reptile', 'reptile', 'ungulate',\n",
       "       'ungulate', 'ungulate', 'ungulate', 'bird', 'bird', 'bird', 'bird',\n",
       "       'insect', 'insect', 'insect', 'insect', 'primate', 'primate',\n",
       "       'primate', 'primate', 'reptile', 'reptile', 'reptile', 'reptile',\n",
       "       'ungulate', 'ungulate', 'ungulate', 'ungulate', 'bird', 'bird',\n",
       "       'bird', 'bird', 'insect', 'insect', 'insect', 'insect', 'primate',\n",
       "       'primate', 'primate', 'primate', 'reptile', 'reptile', 'reptile',\n",
       "       'reptile', 'ungulate', 'ungulate', 'ungulate', 'ungulate', 'bird',\n",
       "       'bird', 'bird', 'bird', 'insect', 'insect', 'insect', 'insect',\n",
       "       'primate', 'primate', 'primate', 'primate', 'reptile', 'reptile',\n",
       "       'reptile', 'reptile', 'ungulate', 'ungulate', 'ungulate',\n",
       "       'ungulate'], dtype='|S8'), length=200), ArrayCollectable(name='beh', doc=None, value=array(['eating', 'fighting', 'running', 'swimming', 'eating', 'fighting',\n",
       "       'running', 'swimming', 'eating', 'fighting', 'running', 'swimming',\n",
       "       'eating', 'fighting', 'running', 'swimming', 'eating', 'fighting',\n",
       "       'running', 'swimming', 'eating', 'fighting', 'running', 'swimming',\n",
       "       'eating', 'fighting', 'running', 'swimming', 'eating', 'fighting',\n",
       "       'running', 'swimming', 'eating', 'fighting', 'running', 'swimming',\n",
       "       'eating', 'fighting', 'running', 'swimming', 'eating', 'fighting',\n",
       "       'running', 'swimming', 'eating', 'fighting', 'running', 'swimming',\n",
       "       'eating', 'fighting', 'running', 'swimming', 'eating', 'fighting',\n",
       "       'running', 'swimming', 'eating', 'fighting', 'running', 'swimming',\n",
       "       'eating', 'fighting', 'running', 'swimming', 'eating', 'fighting',\n",
       "       'running', 'swimming', 'eating', 'fighting', 'running', 'swimming',\n",
       "       'eating', 'fighting', 'running', 'swimming', 'eating', 'fighting',\n",
       "       'running', 'swimming', 'eating', 'fighting', 'running', 'swimming',\n",
       "       'eating', 'fighting', 'running', 'swimming', 'eating', 'fighting',\n",
       "       'running', 'swimming', 'eating', 'fighting', 'running', 'swimming',\n",
       "       'eating', 'fighting', 'running', 'swimming', 'eating', 'fighting',\n",
       "       'running', 'swimming', 'eating', 'fighting', 'running', 'swimming',\n",
       "       'eating', 'fighting', 'running', 'swimming', 'eating', 'fighting',\n",
       "       'running', 'swimming', 'eating', 'fighting', 'running', 'swimming',\n",
       "       'eating', 'fighting', 'running', 'swimming', 'eating', 'fighting',\n",
       "       'running', 'swimming', 'eating', 'fighting', 'running', 'swimming',\n",
       "       'eating', 'fighting', 'running', 'swimming', 'eating', 'fighting',\n",
       "       'running', 'swimming', 'eating', 'fighting', 'running', 'swimming',\n",
       "       'eating', 'fighting', 'running', 'swimming', 'eating', 'fighting',\n",
       "       'running', 'swimming', 'eating', 'fighting', 'running', 'swimming',\n",
       "       'eating', 'fighting', 'running', 'swimming', 'eating', 'fighting',\n",
       "       'running', 'swimming', 'eating', 'fighting', 'running', 'swimming',\n",
       "       'eating', 'fighting', 'running', 'swimming', 'eating', 'fighting',\n",
       "       'running', 'swimming', 'eating', 'fighting', 'running', 'swimming',\n",
       "       'eating', 'fighting', 'running', 'swimming', 'eating', 'fighting',\n",
       "       'running', 'swimming', 'eating', 'fighting', 'running', 'swimming',\n",
       "       'eating', 'fighting', 'running', 'swimming', 'eating', 'fighting',\n",
       "       'running', 'swimming'], dtype='|S8'), length=200), ArrayCollectable(name='chunks', doc=None, value=array(['eating', 'fighting', 'running', 'swimming', 'eating', 'fighting',\n",
       "       'running', 'swimming', 'eating', 'fighting', 'running', 'swimming',\n",
       "       'eating', 'fighting', 'running', 'swimming', 'eating', 'fighting',\n",
       "       'running', 'swimming', 'eating', 'fighting', 'running', 'swimming',\n",
       "       'eating', 'fighting', 'running', 'swimming', 'eating', 'fighting',\n",
       "       'running', 'swimming', 'eating', 'fighting', 'running', 'swimming',\n",
       "       'eating', 'fighting', 'running', 'swimming', 'eating', 'fighting',\n",
       "       'running', 'swimming', 'eating', 'fighting', 'running', 'swimming',\n",
       "       'eating', 'fighting', 'running', 'swimming', 'eating', 'fighting',\n",
       "       'running', 'swimming', 'eating', 'fighting', 'running', 'swimming',\n",
       "       'eating', 'fighting', 'running', 'swimming', 'eating', 'fighting',\n",
       "       'running', 'swimming', 'eating', 'fighting', 'running', 'swimming',\n",
       "       'eating', 'fighting', 'running', 'swimming', 'eating', 'fighting',\n",
       "       'running', 'swimming', 'eating', 'fighting', 'running', 'swimming',\n",
       "       'eating', 'fighting', 'running', 'swimming', 'eating', 'fighting',\n",
       "       'running', 'swimming', 'eating', 'fighting', 'running', 'swimming',\n",
       "       'eating', 'fighting', 'running', 'swimming', 'eating', 'fighting',\n",
       "       'running', 'swimming', 'eating', 'fighting', 'running', 'swimming',\n",
       "       'eating', 'fighting', 'running', 'swimming', 'eating', 'fighting',\n",
       "       'running', 'swimming', 'eating', 'fighting', 'running', 'swimming',\n",
       "       'eating', 'fighting', 'running', 'swimming', 'eating', 'fighting',\n",
       "       'running', 'swimming', 'eating', 'fighting', 'running', 'swimming',\n",
       "       'eating', 'fighting', 'running', 'swimming', 'eating', 'fighting',\n",
       "       'running', 'swimming', 'eating', 'fighting', 'running', 'swimming',\n",
       "       'eating', 'fighting', 'running', 'swimming', 'eating', 'fighting',\n",
       "       'running', 'swimming', 'eating', 'fighting', 'running', 'swimming',\n",
       "       'eating', 'fighting', 'running', 'swimming', 'eating', 'fighting',\n",
       "       'running', 'swimming', 'eating', 'fighting', 'running', 'swimming',\n",
       "       'eating', 'fighting', 'running', 'swimming', 'eating', 'fighting',\n",
       "       'running', 'swimming', 'eating', 'fighting', 'running', 'swimming',\n",
       "       'eating', 'fighting', 'running', 'swimming', 'eating', 'fighting',\n",
       "       'running', 'swimming', 'eating', 'fighting', 'running', 'swimming',\n",
       "       'eating', 'fighting', 'running', 'swimming', 'eating', 'fighting',\n",
       "       'running', 'swimming'], dtype='|S8'), length=200), ArrayCollectable(name='beh_tax', doc=None, value=array(['bird_eating', 'bird_fighting', 'bird_running', 'bird_swimming',\n",
       "       'insect_eating', 'insect_fighting', 'insect_running',\n",
       "       'insect_swimming', 'primate_eating', 'primate_fighting',\n",
       "       'primate_running', 'primate_swimming', 'reptile_eating',\n",
       "       'reptile_fighting', 'reptile_running', 'reptile_swimming',\n",
       "       'ungulate_eating', 'ungulate_fighting', 'ungulate_running',\n",
       "       'ungulate_swimming', 'bird_eating', 'bird_fighting',\n",
       "       'bird_running', 'bird_swimming', 'insect_eating',\n",
       "       'insect_fighting', 'insect_running', 'insect_swimming',\n",
       "       'primate_eating', 'primate_fighting', 'primate_running',\n",
       "       'primate_swimming', 'reptile_eating', 'reptile_fighting',\n",
       "       'reptile_running', 'reptile_swimming', 'ungulate_eating',\n",
       "       'ungulate_fighting', 'ungulate_running', 'ungulate_swimming',\n",
       "       'bird_eating', 'bird_fighting', 'bird_running', 'bird_swimming',\n",
       "       'insect_eating', 'insect_fighting', 'insect_running',\n",
       "       'insect_swimming', 'primate_eating', 'primate_fighting',\n",
       "       'primate_running', 'primate_swimming', 'reptile_eating',\n",
       "       'reptile_fighting', 'reptile_running', 'reptile_swimming',\n",
       "       'ungulate_eating', 'ungulate_fighting', 'ungulate_running',\n",
       "       'ungulate_swimming', 'bird_eating', 'bird_fighting',\n",
       "       'bird_running', 'bird_swimming', 'insect_eating',\n",
       "       'insect_fighting', 'insect_running', 'insect_swimming',\n",
       "       'primate_eating', 'primate_fighting', 'primate_running',\n",
       "       'primate_swimming', 'reptile_eating', 'reptile_fighting',\n",
       "       'reptile_running', 'reptile_swimming', 'ungulate_eating',\n",
       "       'ungulate_fighting', 'ungulate_running', 'ungulate_swimming',\n",
       "       'bird_eating', 'bird_fighting', 'bird_running', 'bird_swimming',\n",
       "       'insect_eating', 'insect_fighting', 'insect_running',\n",
       "       'insect_swimming', 'primate_eating', 'primate_fighting',\n",
       "       'primate_running', 'primate_swimming', 'reptile_eating',\n",
       "       'reptile_fighting', 'reptile_running', 'reptile_swimming',\n",
       "       'ungulate_eating', 'ungulate_fighting', 'ungulate_running',\n",
       "       'ungulate_swimming', 'bird_eating', 'bird_fighting',\n",
       "       'bird_running', 'bird_swimming', 'insect_eating',\n",
       "       'insect_fighting', 'insect_running', 'insect_swimming',\n",
       "       'primate_eating', 'primate_fighting', 'primate_running',\n",
       "       'primate_swimming', 'reptile_eating', 'reptile_fighting',\n",
       "       'reptile_running', 'reptile_swimming', 'ungulate_eating',\n",
       "       'ungulate_fighting', 'ungulate_running', 'ungulate_swimming',\n",
       "       'bird_eating', 'bird_fighting', 'bird_running', 'bird_swimming',\n",
       "       'insect_eating', 'insect_fighting', 'insect_running',\n",
       "       'insect_swimming', 'primate_eating', 'primate_fighting',\n",
       "       'primate_running', 'primate_swimming', 'reptile_eating',\n",
       "       'reptile_fighting', 'reptile_running', 'reptile_swimming',\n",
       "       'ungulate_eating', 'ungulate_fighting', 'ungulate_running',\n",
       "       'ungulate_swimming', 'bird_eating', 'bird_fighting',\n",
       "       'bird_running', 'bird_swimming', 'insect_eating',\n",
       "       'insect_fighting', 'insect_running', 'insect_swimming',\n",
       "       'primate_eating', 'primate_fighting', 'primate_running',\n",
       "       'primate_swimming', 'reptile_eating', 'reptile_fighting',\n",
       "       'reptile_running', 'reptile_swimming', 'ungulate_eating',\n",
       "       'ungulate_fighting', 'ungulate_running', 'ungulate_swimming',\n",
       "       'bird_eating', 'bird_fighting', 'bird_running', 'bird_swimming',\n",
       "       'insect_eating', 'insect_fighting', 'insect_running',\n",
       "       'insect_swimming', 'primate_eating', 'primate_fighting',\n",
       "       'primate_running', 'primate_swimming', 'reptile_eating',\n",
       "       'reptile_fighting', 'reptile_running', 'reptile_swimming',\n",
       "       'ungulate_eating', 'ungulate_fighting', 'ungulate_running',\n",
       "       'ungulate_swimming', 'bird_eating', 'bird_fighting',\n",
       "       'bird_running', 'bird_swimming', 'insect_eating',\n",
       "       'insect_fighting', 'insect_running', 'insect_swimming',\n",
       "       'primate_eating', 'primate_fighting', 'primate_running',\n",
       "       'primate_swimming', 'reptile_eating', 'reptile_fighting',\n",
       "       'reptile_running', 'reptile_swimming', 'ungulate_eating',\n",
       "       'ungulate_fighting', 'ungulate_running', 'ungulate_swimming'],\n",
       "      dtype='|S17'), length=200), ArrayCollectable(name='targets', doc=None, value=array(['bird', 'bird', 'bird', 'bird', 'insect', 'insect', 'insect',\n",
       "       'insect', 'primate', 'primate', 'primate', 'primate', 'reptile',\n",
       "       'reptile', 'reptile', 'reptile', 'ungulate', 'ungulate',\n",
       "       'ungulate', 'ungulate', 'bird', 'bird', 'bird', 'bird', 'insect',\n",
       "       'insect', 'insect', 'insect', 'primate', 'primate', 'primate',\n",
       "       'primate', 'reptile', 'reptile', 'reptile', 'reptile', 'ungulate',\n",
       "       'ungulate', 'ungulate', 'ungulate', 'bird', 'bird', 'bird', 'bird',\n",
       "       'insect', 'insect', 'insect', 'insect', 'primate', 'primate',\n",
       "       'primate', 'primate', 'reptile', 'reptile', 'reptile', 'reptile',\n",
       "       'ungulate', 'ungulate', 'ungulate', 'ungulate', 'bird', 'bird',\n",
       "       'bird', 'bird', 'insect', 'insect', 'insect', 'insect', 'primate',\n",
       "       'primate', 'primate', 'primate', 'reptile', 'reptile', 'reptile',\n",
       "       'reptile', 'ungulate', 'ungulate', 'ungulate', 'ungulate', 'bird',\n",
       "       'bird', 'bird', 'bird', 'insect', 'insect', 'insect', 'insect',\n",
       "       'primate', 'primate', 'primate', 'primate', 'reptile', 'reptile',\n",
       "       'reptile', 'reptile', 'ungulate', 'ungulate', 'ungulate',\n",
       "       'ungulate', 'bird', 'bird', 'bird', 'bird', 'insect', 'insect',\n",
       "       'insect', 'insect', 'primate', 'primate', 'primate', 'primate',\n",
       "       'reptile', 'reptile', 'reptile', 'reptile', 'ungulate', 'ungulate',\n",
       "       'ungulate', 'ungulate', 'bird', 'bird', 'bird', 'bird', 'insect',\n",
       "       'insect', 'insect', 'insect', 'primate', 'primate', 'primate',\n",
       "       'primate', 'reptile', 'reptile', 'reptile', 'reptile', 'ungulate',\n",
       "       'ungulate', 'ungulate', 'ungulate', 'bird', 'bird', 'bird', 'bird',\n",
       "       'insect', 'insect', 'insect', 'insect', 'primate', 'primate',\n",
       "       'primate', 'primate', 'reptile', 'reptile', 'reptile', 'reptile',\n",
       "       'ungulate', 'ungulate', 'ungulate', 'ungulate', 'bird', 'bird',\n",
       "       'bird', 'bird', 'insect', 'insect', 'insect', 'insect', 'primate',\n",
       "       'primate', 'primate', 'primate', 'reptile', 'reptile', 'reptile',\n",
       "       'reptile', 'ungulate', 'ungulate', 'ungulate', 'ungulate', 'bird',\n",
       "       'bird', 'bird', 'bird', 'insect', 'insect', 'insect', 'insect',\n",
       "       'primate', 'primate', 'primate', 'primate', 'reptile', 'reptile',\n",
       "       'reptile', 'reptile', 'ungulate', 'ungulate', 'ungulate',\n",
       "       'ungulate'], dtype='|S8'), length=200)]), fa=FeatureAttributesCollection(items=[ArrayCollectable(name='node_indices', doc=None, value=array([    0,     1,     2, ..., 40959, 40960, 40961]), length=40962)]), a=DatasetAttributesCollection(items=[]))"
      ]
     },
     "execution_count": 404,
     "metadata": {},
     "output_type": "execute_result"
    }
   ],
   "source": [
    "ds_q2"
   ]
  },
  {
   "cell_type": "code",
   "execution_count": 402,
   "metadata": {},
   "outputs": [],
   "source": [
    "# classifier\n",
    "clf = mv.LinearCSVMC()\n",
    "cv = mv.CrossValidation(clf, mv.NFoldPartitioner(), enable_ca=['stats'])"
   ]
  },
  {
   "cell_type": "code",
   "execution_count": 403,
   "metadata": {},
   "outputs": [
    {
     "data": {
      "text/plain": [
       "Dataset(array([[0.82],\n",
       "       [0.8 ],\n",
       "       [0.8 ],\n",
       "       [0.74]]), sa=SampleAttributesCollection(items=[ArrayCollectable(name='cvfolds', doc=None, value=array([0, 1, 2, 3]), length=4)]), fa=FeatureAttributesCollection(items=[]), a=DatasetAttributesCollection(items=[]))"
      ]
     },
     "execution_count": 403,
     "metadata": {},
     "output_type": "execute_result"
    }
   ],
   "source": [
    "cv_within_q2 = cv(ds_q2)\n",
    "cv_within_q2"
   ]
  },
  {
   "cell_type": "code",
   "execution_count": 411,
   "metadata": {},
   "outputs": [
    {
     "data": {
      "text/plain": [
       "0.79"
      ]
     },
     "execution_count": 411,
     "metadata": {},
     "output_type": "execute_result"
    }
   ],
   "source": [
    "np.mean(cv_within_q2)"
   ]
  },
  {
   "cell_type": "code",
   "execution_count": null,
   "metadata": {},
   "outputs": [],
   "source": [
    "# searchlight\n",
    "roi_ids = None\n",
    "sl = Searchlight(cv, queryengine=qe , postproc=mean_sample(), roi_ids=roi_ids)\n",
    "sl_ds_q2 = sl(ds_q2)"
   ]
  },
  {
   "cell_type": "markdown",
   "metadata": {},
   "source": [
    "# Classify behaviors (1 out of 4), training on videos with 4 taxa and testing on videos with left-out taxonomic category"
   ]
  },
  {
   "cell_type": "code",
   "execution_count": 409,
   "metadata": {},
   "outputs": [],
   "source": [
    "# classify on behavior, cv with taxonomy\n",
    "ds_q3 = within_ds.copy()\n",
    "ds_q3.sa['chunks'] = ds_q3.sa['tax']\n",
    "ds_q3.sa['targets'] = ds_q3.sa['beh']\n",
    "del ds_q3.sa['intents']"
   ]
  },
  {
   "cell_type": "code",
   "execution_count": 410,
   "metadata": {},
   "outputs": [
    {
     "data": {
      "text/plain": [
       "Dataset(array([[0.275],\n",
       "       [0.325],\n",
       "       [0.225],\n",
       "       [0.2  ],\n",
       "       [0.35 ]]), sa=SampleAttributesCollection(items=[ArrayCollectable(name='cvfolds', doc=None, value=array([0, 1, 2, 3, 4]), length=5)]), fa=FeatureAttributesCollection(items=[]), a=DatasetAttributesCollection(items=[]))"
      ]
     },
     "execution_count": 410,
     "metadata": {},
     "output_type": "execute_result"
    }
   ],
   "source": [
    "# classifier\n",
    "clf = mv.LinearCSVMC()\n",
    "cv = mv.CrossValidation(clf, mv.NFoldPartitioner(), enable_ca=['stats'])\n",
    "cv_within_q3 = cv(ds_q3)\n",
    "cv_within_q3"
   ]
  },
  {
   "cell_type": "code",
   "execution_count": 412,
   "metadata": {},
   "outputs": [
    {
     "data": {
      "text/plain": [
       "0.275"
      ]
     },
     "execution_count": 412,
     "metadata": {},
     "output_type": "execute_result"
    }
   ],
   "source": [
    "np.mean(cv_within_q3)"
   ]
  },
  {
   "cell_type": "code",
   "execution_count": 415,
   "metadata": {},
   "outputs": [
    {
     "ename": "KeyboardInterrupt",
     "evalue": "",
     "output_type": "error",
     "traceback": [
      "\u001b[0;31m---------------------------------------------------------------------------\u001b[0m",
      "\u001b[0;31mKeyboardInterrupt\u001b[0m                         Traceback (most recent call last)",
      "\u001b[0;32m<ipython-input-415-dba2e7637b03>\u001b[0m in \u001b[0;36m<module>\u001b[0;34m()\u001b[0m\n\u001b[1;32m      1\u001b[0m \u001b[0mroi_ids\u001b[0m \u001b[0;34m=\u001b[0m \u001b[0mNone\u001b[0m\u001b[0;34m\u001b[0m\u001b[0m\n\u001b[1;32m      2\u001b[0m \u001b[0msl\u001b[0m \u001b[0;34m=\u001b[0m \u001b[0mmv\u001b[0m\u001b[0;34m.\u001b[0m\u001b[0mSearchlight\u001b[0m\u001b[0;34m(\u001b[0m\u001b[0mcv\u001b[0m\u001b[0;34m,\u001b[0m \u001b[0mqueryengine\u001b[0m\u001b[0;34m=\u001b[0m\u001b[0mqe\u001b[0m \u001b[0;34m,\u001b[0m \u001b[0mpostproc\u001b[0m\u001b[0;34m=\u001b[0m\u001b[0mmv\u001b[0m\u001b[0;34m.\u001b[0m\u001b[0mmean_sample\u001b[0m\u001b[0;34m(\u001b[0m\u001b[0;34m)\u001b[0m\u001b[0;34m,\u001b[0m \u001b[0mroi_ids\u001b[0m\u001b[0;34m=\u001b[0m\u001b[0mroi_ids\u001b[0m\u001b[0;34m)\u001b[0m\u001b[0;34m\u001b[0m\u001b[0m\n\u001b[0;32m----> 3\u001b[0;31m \u001b[0msl_ds_q3\u001b[0m \u001b[0;34m=\u001b[0m \u001b[0msl\u001b[0m\u001b[0;34m(\u001b[0m\u001b[0mds_q3\u001b[0m\u001b[0;34m)\u001b[0m\u001b[0;34m\u001b[0m\u001b[0m\n\u001b[0m",
      "\u001b[0;32m/Users/h/anaconda3/envs/pymvpa_eng/lib/python2.7/site-packages/mvpa2/base/learner.pyc\u001b[0m in \u001b[0;36m__call__\u001b[0;34m(self, ds)\u001b[0m\n\u001b[1;32m    256\u001b[0m                                    \u001b[0;34m\"used and auto training is disabled.\"\u001b[0m\u001b[0;34m\u001b[0m\u001b[0m\n\u001b[1;32m    257\u001b[0m                                    % str(self))\n\u001b[0;32m--> 258\u001b[0;31m         \u001b[0;32mreturn\u001b[0m \u001b[0msuper\u001b[0m\u001b[0;34m(\u001b[0m\u001b[0mLearner\u001b[0m\u001b[0;34m,\u001b[0m \u001b[0mself\u001b[0m\u001b[0;34m)\u001b[0m\u001b[0;34m.\u001b[0m\u001b[0m__call__\u001b[0m\u001b[0;34m(\u001b[0m\u001b[0mds\u001b[0m\u001b[0;34m)\u001b[0m\u001b[0;34m\u001b[0m\u001b[0m\n\u001b[0m\u001b[1;32m    259\u001b[0m \u001b[0;34m\u001b[0m\u001b[0m\n\u001b[1;32m    260\u001b[0m     is_trained = property(fget=lambda x: x.__is_trained, fset=_set_trained,\n",
      "\u001b[0;32m/Users/h/anaconda3/envs/pymvpa_eng/lib/python2.7/site-packages/mvpa2/base/node.pyc\u001b[0m in \u001b[0;36m__call__\u001b[0;34m(self, ds, _call_kwargs)\u001b[0m\n\u001b[1;32m    135\u001b[0m \u001b[0;34m\u001b[0m\u001b[0m\n\u001b[1;32m    136\u001b[0m         \u001b[0mself\u001b[0m\u001b[0;34m.\u001b[0m\u001b[0m_precall\u001b[0m\u001b[0;34m(\u001b[0m\u001b[0mds\u001b[0m\u001b[0;34m)\u001b[0m\u001b[0;34m\u001b[0m\u001b[0m\n\u001b[0;32m--> 137\u001b[0;31m         \u001b[0mresult\u001b[0m \u001b[0;34m=\u001b[0m \u001b[0mself\u001b[0m\u001b[0;34m.\u001b[0m\u001b[0m_call\u001b[0m\u001b[0;34m(\u001b[0m\u001b[0mds\u001b[0m\u001b[0;34m,\u001b[0m \u001b[0;34m**\u001b[0m\u001b[0;34m(\u001b[0m\u001b[0m_call_kwargs\u001b[0m \u001b[0;32mor\u001b[0m \u001b[0mself\u001b[0m\u001b[0;34m.\u001b[0m\u001b[0m_get_call_kwargs\u001b[0m\u001b[0;34m(\u001b[0m\u001b[0mds\u001b[0m\u001b[0;34m)\u001b[0m\u001b[0;34m)\u001b[0m\u001b[0;34m)\u001b[0m\u001b[0;34m\u001b[0m\u001b[0m\n\u001b[0m\u001b[1;32m    138\u001b[0m         \u001b[0mresult\u001b[0m \u001b[0;34m=\u001b[0m \u001b[0mself\u001b[0m\u001b[0;34m.\u001b[0m\u001b[0m_postcall\u001b[0m\u001b[0;34m(\u001b[0m\u001b[0mds\u001b[0m\u001b[0;34m,\u001b[0m \u001b[0mresult\u001b[0m\u001b[0;34m)\u001b[0m\u001b[0;34m\u001b[0m\u001b[0m\n\u001b[1;32m    139\u001b[0m \u001b[0;34m\u001b[0m\u001b[0m\n",
      "\u001b[0;32m/Users/h/anaconda3/envs/pymvpa_eng/lib/python2.7/site-packages/mvpa2/measures/searchlight.pyc\u001b[0m in \u001b[0;36m_call\u001b[0;34m(self, dataset)\u001b[0m\n\u001b[1;32m    163\u001b[0m \u001b[0;34m\u001b[0m\u001b[0m\n\u001b[1;32m    164\u001b[0m         \u001b[0;31m# pass to subclass\u001b[0m\u001b[0;34m\u001b[0m\u001b[0;34m\u001b[0m\u001b[0m\n\u001b[0;32m--> 165\u001b[0;31m         \u001b[0mresults\u001b[0m \u001b[0;34m=\u001b[0m \u001b[0mself\u001b[0m\u001b[0;34m.\u001b[0m\u001b[0m_sl_call\u001b[0m\u001b[0;34m(\u001b[0m\u001b[0mdataset\u001b[0m\u001b[0;34m,\u001b[0m \u001b[0mroi_ids\u001b[0m\u001b[0;34m,\u001b[0m \u001b[0mnproc\u001b[0m\u001b[0;34m)\u001b[0m\u001b[0;34m\u001b[0m\u001b[0m\n\u001b[0m\u001b[1;32m    166\u001b[0m \u001b[0;34m\u001b[0m\u001b[0m\n\u001b[1;32m    167\u001b[0m         \u001b[0;32mif\u001b[0m \u001b[0;34m'mapper'\u001b[0m \u001b[0;32min\u001b[0m \u001b[0mdataset\u001b[0m\u001b[0;34m.\u001b[0m\u001b[0ma\u001b[0m\u001b[0;34m:\u001b[0m\u001b[0;34m\u001b[0m\u001b[0m\n",
      "\u001b[0;32m/Users/h/anaconda3/envs/pymvpa_eng/lib/python2.7/site-packages/mvpa2/measures/searchlight.pyc\u001b[0m in \u001b[0;36m_sl_call\u001b[0;34m(self, dataset, roi_ids, nproc)\u001b[0m\n\u001b[1;32m    398\u001b[0m             \u001b[0;31m# otherwise collect the results in an 1-item list\u001b[0m\u001b[0;34m\u001b[0m\u001b[0;34m\u001b[0m\u001b[0m\n\u001b[1;32m    399\u001b[0m             p_results = [\n\u001b[0;32m--> 400\u001b[0;31m                     proc_block(roi_ids, dataset, self.__datameasure)]\n\u001b[0m\u001b[1;32m    401\u001b[0m \u001b[0;34m\u001b[0m\u001b[0m\n\u001b[1;32m    402\u001b[0m         \u001b[0;31m# Finally collect and possibly process results\u001b[0m\u001b[0;34m\u001b[0m\u001b[0;34m\u001b[0m\u001b[0m\n",
      "\u001b[0;32m/Users/h/anaconda3/envs/pymvpa_eng/lib/python2.7/site-packages/mvpa2/measures/searchlight.pyc\u001b[0m in \u001b[0;36m_proc_block\u001b[0;34m(self, block, ds, measure, seed, iblock)\u001b[0m\n\u001b[1;32m    461\u001b[0m \u001b[0;34m\u001b[0m\u001b[0m\n\u001b[1;32m    462\u001b[0m         \u001b[0;32mfor\u001b[0m \u001b[0mi\u001b[0m\u001b[0;34m,\u001b[0m \u001b[0mf\u001b[0m \u001b[0;32min\u001b[0m \u001b[0menumerate\u001b[0m\u001b[0;34m(\u001b[0m\u001b[0mblock\u001b[0m\u001b[0;34m)\u001b[0m\u001b[0;34m:\u001b[0m\u001b[0;34m\u001b[0m\u001b[0m\n\u001b[0;32m--> 463\u001b[0;31m             \u001b[0mres\u001b[0m\u001b[0;34m,\u001b[0m \u001b[0mroi\u001b[0m \u001b[0;34m=\u001b[0m \u001b[0mself\u001b[0m\u001b[0;34m.\u001b[0m\u001b[0m__process_roi\u001b[0m\u001b[0;34m(\u001b[0m\u001b[0mds\u001b[0m\u001b[0;34m,\u001b[0m \u001b[0mf\u001b[0m\u001b[0;34m,\u001b[0m \u001b[0mmeasure\u001b[0m\u001b[0;34m,\u001b[0m \u001b[0massure_dataset\u001b[0m\u001b[0;34m)\u001b[0m\u001b[0;34m\u001b[0m\u001b[0m\n\u001b[0m\u001b[1;32m    464\u001b[0m             \u001b[0mresults\u001b[0m\u001b[0;34m.\u001b[0m\u001b[0mappend\u001b[0m\u001b[0;34m(\u001b[0m\u001b[0mres\u001b[0m\u001b[0;34m)\u001b[0m\u001b[0;34m\u001b[0m\u001b[0m\n\u001b[1;32m    465\u001b[0m \u001b[0;34m\u001b[0m\u001b[0m\n",
      "\u001b[0;32m/Users/h/anaconda3/envs/pymvpa_eng/lib/python2.7/site-packages/mvpa2/measures/searchlight.pyc\u001b[0m in \u001b[0;36m__process_roi\u001b[0;34m(self, ds, roi_feature_id, measure, assure_dataset)\u001b[0m\n\u001b[1;32m    523\u001b[0m \u001b[0;34m\u001b[0m\u001b[0m\n\u001b[1;32m    524\u001b[0m         \u001b[0;31m# compute the datameasure and store in results\u001b[0m\u001b[0;34m\u001b[0m\u001b[0;34m\u001b[0m\u001b[0m\n\u001b[0;32m--> 525\u001b[0;31m         \u001b[0mres\u001b[0m \u001b[0;34m=\u001b[0m \u001b[0mmeasure\u001b[0m\u001b[0;34m(\u001b[0m\u001b[0mroi\u001b[0m\u001b[0;34m)\u001b[0m\u001b[0;34m\u001b[0m\u001b[0m\n\u001b[0m\u001b[1;32m    526\u001b[0m         \u001b[0;32mif\u001b[0m \u001b[0massure_dataset\u001b[0m \u001b[0;32mand\u001b[0m \u001b[0;32mnot\u001b[0m \u001b[0mis_datasetlike\u001b[0m\u001b[0;34m(\u001b[0m\u001b[0mres\u001b[0m\u001b[0;34m)\u001b[0m\u001b[0;34m:\u001b[0m\u001b[0;34m\u001b[0m\u001b[0m\n\u001b[1;32m    527\u001b[0m             \u001b[0mres\u001b[0m \u001b[0;34m=\u001b[0m \u001b[0mDataset\u001b[0m\u001b[0;34m(\u001b[0m\u001b[0mnp\u001b[0m\u001b[0;34m.\u001b[0m\u001b[0matleast_1d\u001b[0m\u001b[0;34m(\u001b[0m\u001b[0mres\u001b[0m\u001b[0;34m)\u001b[0m\u001b[0;34m)\u001b[0m\u001b[0;34m\u001b[0m\u001b[0m\n",
      "\u001b[0;32m/Users/h/anaconda3/envs/pymvpa_eng/lib/python2.7/site-packages/mvpa2/base/learner.pyc\u001b[0m in \u001b[0;36m__call__\u001b[0;34m(self, ds)\u001b[0m\n\u001b[1;32m    256\u001b[0m                                    \u001b[0;34m\"used and auto training is disabled.\"\u001b[0m\u001b[0;34m\u001b[0m\u001b[0m\n\u001b[1;32m    257\u001b[0m                                    % str(self))\n\u001b[0;32m--> 258\u001b[0;31m         \u001b[0;32mreturn\u001b[0m \u001b[0msuper\u001b[0m\u001b[0;34m(\u001b[0m\u001b[0mLearner\u001b[0m\u001b[0;34m,\u001b[0m \u001b[0mself\u001b[0m\u001b[0;34m)\u001b[0m\u001b[0;34m.\u001b[0m\u001b[0m__call__\u001b[0m\u001b[0;34m(\u001b[0m\u001b[0mds\u001b[0m\u001b[0;34m)\u001b[0m\u001b[0;34m\u001b[0m\u001b[0m\n\u001b[0m\u001b[1;32m    259\u001b[0m \u001b[0;34m\u001b[0m\u001b[0m\n\u001b[1;32m    260\u001b[0m     is_trained = property(fget=lambda x: x.__is_trained, fset=_set_trained,\n",
      "\u001b[0;32m/Users/h/anaconda3/envs/pymvpa_eng/lib/python2.7/site-packages/mvpa2/base/node.pyc\u001b[0m in \u001b[0;36m__call__\u001b[0;34m(self, ds, _call_kwargs)\u001b[0m\n\u001b[1;32m    135\u001b[0m \u001b[0;34m\u001b[0m\u001b[0m\n\u001b[1;32m    136\u001b[0m         \u001b[0mself\u001b[0m\u001b[0;34m.\u001b[0m\u001b[0m_precall\u001b[0m\u001b[0;34m(\u001b[0m\u001b[0mds\u001b[0m\u001b[0;34m)\u001b[0m\u001b[0;34m\u001b[0m\u001b[0m\n\u001b[0;32m--> 137\u001b[0;31m         \u001b[0mresult\u001b[0m \u001b[0;34m=\u001b[0m \u001b[0mself\u001b[0m\u001b[0;34m.\u001b[0m\u001b[0m_call\u001b[0m\u001b[0;34m(\u001b[0m\u001b[0mds\u001b[0m\u001b[0;34m,\u001b[0m \u001b[0;34m**\u001b[0m\u001b[0;34m(\u001b[0m\u001b[0m_call_kwargs\u001b[0m \u001b[0;32mor\u001b[0m \u001b[0mself\u001b[0m\u001b[0;34m.\u001b[0m\u001b[0m_get_call_kwargs\u001b[0m\u001b[0;34m(\u001b[0m\u001b[0mds\u001b[0m\u001b[0;34m)\u001b[0m\u001b[0;34m)\u001b[0m\u001b[0;34m)\u001b[0m\u001b[0;34m\u001b[0m\u001b[0m\n\u001b[0m\u001b[1;32m    138\u001b[0m         \u001b[0mresult\u001b[0m \u001b[0;34m=\u001b[0m \u001b[0mself\u001b[0m\u001b[0;34m.\u001b[0m\u001b[0m_postcall\u001b[0m\u001b[0;34m(\u001b[0m\u001b[0mds\u001b[0m\u001b[0;34m,\u001b[0m \u001b[0mresult\u001b[0m\u001b[0;34m)\u001b[0m\u001b[0;34m\u001b[0m\u001b[0m\n\u001b[1;32m    139\u001b[0m \u001b[0;34m\u001b[0m\u001b[0m\n",
      "\u001b[0;32m/Users/h/anaconda3/envs/pymvpa_eng/lib/python2.7/site-packages/mvpa2/measures/base.pyc\u001b[0m in \u001b[0;36m_call\u001b[0;34m(self, ds)\u001b[0m\n\u001b[1;32m    512\u001b[0m         \u001b[0;31m# always untrain to wipe out previous stats\u001b[0m\u001b[0;34m\u001b[0m\u001b[0;34m\u001b[0m\u001b[0m\n\u001b[1;32m    513\u001b[0m         \u001b[0mself\u001b[0m\u001b[0;34m.\u001b[0m\u001b[0muntrain\u001b[0m\u001b[0;34m(\u001b[0m\u001b[0;34m)\u001b[0m\u001b[0;34m\u001b[0m\u001b[0m\n\u001b[0;32m--> 514\u001b[0;31m         \u001b[0;32mreturn\u001b[0m \u001b[0msuper\u001b[0m\u001b[0;34m(\u001b[0m\u001b[0mCrossValidation\u001b[0m\u001b[0;34m,\u001b[0m \u001b[0mself\u001b[0m\u001b[0;34m)\u001b[0m\u001b[0;34m.\u001b[0m\u001b[0m_call\u001b[0m\u001b[0;34m(\u001b[0m\u001b[0mds\u001b[0m\u001b[0;34m)\u001b[0m\u001b[0;34m\u001b[0m\u001b[0m\n\u001b[0m\u001b[1;32m    515\u001b[0m \u001b[0;34m\u001b[0m\u001b[0m\n\u001b[1;32m    516\u001b[0m \u001b[0;34m\u001b[0m\u001b[0m\n",
      "\u001b[0;32m/Users/h/anaconda3/envs/pymvpa_eng/lib/python2.7/site-packages/mvpa2/measures/base.pyc\u001b[0m in \u001b[0;36m_call\u001b[0;34m(self, ds)\u001b[0m\n\u001b[1;32m    335\u001b[0m                 \u001b[0mca\u001b[0m\u001b[0;34m.\u001b[0m\u001b[0mdatasets\u001b[0m\u001b[0;34m.\u001b[0m\u001b[0mappend\u001b[0m\u001b[0;34m(\u001b[0m\u001b[0msds\u001b[0m\u001b[0;34m)\u001b[0m\u001b[0;34m\u001b[0m\u001b[0m\n\u001b[1;32m    336\u001b[0m             \u001b[0;31m# run the beast\u001b[0m\u001b[0;34m\u001b[0m\u001b[0;34m\u001b[0m\u001b[0m\n\u001b[0;32m--> 337\u001b[0;31m             \u001b[0mresult\u001b[0m \u001b[0;34m=\u001b[0m \u001b[0mnode\u001b[0m\u001b[0;34m(\u001b[0m\u001b[0msds\u001b[0m\u001b[0;34m)\u001b[0m\u001b[0;34m\u001b[0m\u001b[0m\n\u001b[0m\u001b[1;32m    338\u001b[0m             \u001b[0;31m# callback\u001b[0m\u001b[0;34m\u001b[0m\u001b[0;34m\u001b[0m\u001b[0m\n\u001b[1;32m    339\u001b[0m             \u001b[0;32mif\u001b[0m \u001b[0mself\u001b[0m\u001b[0;34m.\u001b[0m\u001b[0m_callback\u001b[0m \u001b[0;32mis\u001b[0m \u001b[0;32mnot\u001b[0m \u001b[0mNone\u001b[0m\u001b[0;34m:\u001b[0m\u001b[0;34m\u001b[0m\u001b[0m\n",
      "\u001b[0;32m/Users/h/anaconda3/envs/pymvpa_eng/lib/python2.7/site-packages/mvpa2/base/learner.pyc\u001b[0m in \u001b[0;36m__call__\u001b[0;34m(self, ds)\u001b[0m\n\u001b[1;32m    256\u001b[0m                                    \u001b[0;34m\"used and auto training is disabled.\"\u001b[0m\u001b[0;34m\u001b[0m\u001b[0m\n\u001b[1;32m    257\u001b[0m                                    % str(self))\n\u001b[0;32m--> 258\u001b[0;31m         \u001b[0;32mreturn\u001b[0m \u001b[0msuper\u001b[0m\u001b[0;34m(\u001b[0m\u001b[0mLearner\u001b[0m\u001b[0;34m,\u001b[0m \u001b[0mself\u001b[0m\u001b[0;34m)\u001b[0m\u001b[0;34m.\u001b[0m\u001b[0m__call__\u001b[0m\u001b[0;34m(\u001b[0m\u001b[0mds\u001b[0m\u001b[0;34m)\u001b[0m\u001b[0;34m\u001b[0m\u001b[0m\n\u001b[0m\u001b[1;32m    259\u001b[0m \u001b[0;34m\u001b[0m\u001b[0m\n\u001b[1;32m    260\u001b[0m     is_trained = property(fget=lambda x: x.__is_trained, fset=_set_trained,\n",
      "\u001b[0;32m/Users/h/anaconda3/envs/pymvpa_eng/lib/python2.7/site-packages/mvpa2/base/node.pyc\u001b[0m in \u001b[0;36m__call__\u001b[0;34m(self, ds, _call_kwargs)\u001b[0m\n\u001b[1;32m    135\u001b[0m \u001b[0;34m\u001b[0m\u001b[0m\n\u001b[1;32m    136\u001b[0m         \u001b[0mself\u001b[0m\u001b[0;34m.\u001b[0m\u001b[0m_precall\u001b[0m\u001b[0;34m(\u001b[0m\u001b[0mds\u001b[0m\u001b[0;34m)\u001b[0m\u001b[0;34m\u001b[0m\u001b[0m\n\u001b[0;32m--> 137\u001b[0;31m         \u001b[0mresult\u001b[0m \u001b[0;34m=\u001b[0m \u001b[0mself\u001b[0m\u001b[0;34m.\u001b[0m\u001b[0m_call\u001b[0m\u001b[0;34m(\u001b[0m\u001b[0mds\u001b[0m\u001b[0;34m,\u001b[0m \u001b[0;34m**\u001b[0m\u001b[0;34m(\u001b[0m\u001b[0m_call_kwargs\u001b[0m \u001b[0;32mor\u001b[0m \u001b[0mself\u001b[0m\u001b[0;34m.\u001b[0m\u001b[0m_get_call_kwargs\u001b[0m\u001b[0;34m(\u001b[0m\u001b[0mds\u001b[0m\u001b[0;34m)\u001b[0m\u001b[0;34m)\u001b[0m\u001b[0;34m)\u001b[0m\u001b[0;34m\u001b[0m\u001b[0m\n\u001b[0m\u001b[1;32m    138\u001b[0m         \u001b[0mresult\u001b[0m \u001b[0;34m=\u001b[0m \u001b[0mself\u001b[0m\u001b[0;34m.\u001b[0m\u001b[0m_postcall\u001b[0m\u001b[0;34m(\u001b[0m\u001b[0mds\u001b[0m\u001b[0;34m,\u001b[0m \u001b[0mresult\u001b[0m\u001b[0;34m)\u001b[0m\u001b[0;34m\u001b[0m\u001b[0m\n\u001b[1;32m    139\u001b[0m \u001b[0;34m\u001b[0m\u001b[0m\n",
      "\u001b[0;32m/Users/h/anaconda3/envs/pymvpa_eng/lib/python2.7/site-packages/mvpa2/measures/base.pyc\u001b[0m in \u001b[0;36m_call\u001b[0;34m(self, ds)\u001b[0m\n\u001b[1;32m    617\u001b[0m                     for i in dstrain.get_attr(splitter.get_space())[0].unique])\n\u001b[1;32m    618\u001b[0m         \u001b[0;31m# ask splitter for first part\u001b[0m\u001b[0;34m\u001b[0m\u001b[0;34m\u001b[0m\u001b[0m\n\u001b[0;32m--> 619\u001b[0;31m         \u001b[0mmeasure\u001b[0m\u001b[0;34m.\u001b[0m\u001b[0mtrain\u001b[0m\u001b[0;34m(\u001b[0m\u001b[0mdstrain\u001b[0m\u001b[0;34m)\u001b[0m\u001b[0;34m\u001b[0m\u001b[0m\n\u001b[0m\u001b[1;32m    620\u001b[0m         \u001b[0;31m# cleanup to free memory\u001b[0m\u001b[0;34m\u001b[0m\u001b[0;34m\u001b[0m\u001b[0m\n\u001b[1;32m    621\u001b[0m         \u001b[0;32mdel\u001b[0m \u001b[0mdstrain\u001b[0m\u001b[0;34m\u001b[0m\u001b[0m\n",
      "\u001b[0;32m/Users/h/anaconda3/envs/pymvpa_eng/lib/python2.7/site-packages/mvpa2/base/learner.pyc\u001b[0m in \u001b[0;36mtrain\u001b[0;34m(self, ds)\u001b[0m\n\u001b[1;32m    135\u001b[0m             \u001b[0;31m# things might have happened during pretraining\u001b[0m\u001b[0;34m\u001b[0m\u001b[0;34m\u001b[0m\u001b[0m\n\u001b[1;32m    136\u001b[0m             \u001b[0;32mif\u001b[0m \u001b[0mds\u001b[0m\u001b[0;34m.\u001b[0m\u001b[0mnfeatures\u001b[0m \u001b[0;34m>\u001b[0m \u001b[0;36m0\u001b[0m\u001b[0;34m:\u001b[0m\u001b[0;34m\u001b[0m\u001b[0m\n\u001b[0;32m--> 137\u001b[0;31m                 \u001b[0mself\u001b[0m\u001b[0;34m.\u001b[0m\u001b[0m_train\u001b[0m\u001b[0;34m(\u001b[0m\u001b[0mds\u001b[0m\u001b[0;34m)\u001b[0m\u001b[0;34m\u001b[0m\u001b[0m\n\u001b[0m\u001b[1;32m    138\u001b[0m             \u001b[0;32melse\u001b[0m\u001b[0;34m:\u001b[0m\u001b[0;34m\u001b[0m\u001b[0m\n\u001b[1;32m    139\u001b[0m                 \u001b[0mwarning\u001b[0m\u001b[0;34m(\u001b[0m\u001b[0;34m\"Trying to train on dataset with no features present\"\u001b[0m\u001b[0;34m)\u001b[0m\u001b[0;34m\u001b[0m\u001b[0m\n",
      "\u001b[0;32m/Users/h/anaconda3/envs/pymvpa_eng/lib/python2.7/site-packages/mvpa2/clfs/libsvmc/svm.pyc\u001b[0m in \u001b[0;36m_train\u001b[0;34m(self, dataset)\u001b[0m\n\u001b[1;32m    193\u001b[0m \u001b[0;34m\u001b[0m\u001b[0m\n\u001b[1;32m    194\u001b[0m         \u001b[0;32mtry\u001b[0m\u001b[0;34m:\u001b[0m\u001b[0;34m\u001b[0m\u001b[0m\n\u001b[0;32m--> 195\u001b[0;31m             \u001b[0mself\u001b[0m\u001b[0;34m.\u001b[0m\u001b[0m__model\u001b[0m \u001b[0;34m=\u001b[0m \u001b[0m_svm\u001b[0m\u001b[0;34m.\u001b[0m\u001b[0mSVMModel\u001b[0m\u001b[0;34m(\u001b[0m\u001b[0msvmprob\u001b[0m\u001b[0;34m,\u001b[0m \u001b[0mlibsvm_param\u001b[0m\u001b[0;34m)\u001b[0m\u001b[0;34m\u001b[0m\u001b[0m\n\u001b[0m\u001b[1;32m    196\u001b[0m         \u001b[0;32mexcept\u001b[0m \u001b[0mException\u001b[0m\u001b[0;34m,\u001b[0m \u001b[0me\u001b[0m\u001b[0;34m:\u001b[0m\u001b[0;34m\u001b[0m\u001b[0m\n\u001b[1;32m    197\u001b[0m             \u001b[0;32mraise\u001b[0m \u001b[0mFailedToTrainError\u001b[0m\u001b[0;34m(\u001b[0m\u001b[0mstr\u001b[0m\u001b[0;34m(\u001b[0m\u001b[0me\u001b[0m\u001b[0;34m)\u001b[0m\u001b[0;34m)\u001b[0m\u001b[0;34m\u001b[0m\u001b[0m\n",
      "\u001b[0;32m/Users/h/anaconda3/envs/pymvpa_eng/lib/python2.7/site-packages/mvpa2/clfs/libsvmc/_svm.pyc\u001b[0m in \u001b[0;36m__init__\u001b[0;34m(self, arg1, arg2)\u001b[0m\n\u001b[1;32m    277\u001b[0m             \u001b[0;32mif\u001b[0m \u001b[0mmsg\u001b[0m\u001b[0;34m:\u001b[0m\u001b[0;34m\u001b[0m\u001b[0m\n\u001b[1;32m    278\u001b[0m                 \u001b[0;32mraise\u001b[0m \u001b[0mValueError\u001b[0m\u001b[0;34m,\u001b[0m \u001b[0mmsg\u001b[0m\u001b[0;34m\u001b[0m\u001b[0m\n\u001b[0;32m--> 279\u001b[0;31m             \u001b[0mself\u001b[0m\u001b[0;34m.\u001b[0m\u001b[0mmodel\u001b[0m \u001b[0;34m=\u001b[0m \u001b[0msvmc\u001b[0m\u001b[0;34m.\u001b[0m\u001b[0msvm_train\u001b[0m\u001b[0;34m(\u001b[0m\u001b[0mprob\u001b[0m\u001b[0;34m.\u001b[0m\u001b[0mprob\u001b[0m\u001b[0;34m,\u001b[0m \u001b[0mparam\u001b[0m\u001b[0;34m.\u001b[0m\u001b[0mparam\u001b[0m\u001b[0;34m)\u001b[0m\u001b[0;34m\u001b[0m\u001b[0m\n\u001b[0m\u001b[1;32m    280\u001b[0m \u001b[0;34m\u001b[0m\u001b[0m\n\u001b[1;32m    281\u001b[0m         \u001b[0;31m#setup some classwide variables\u001b[0m\u001b[0;34m\u001b[0m\u001b[0;34m\u001b[0m\u001b[0m\n",
      "\u001b[0;31mKeyboardInterrupt\u001b[0m: "
     ]
    }
   ],
   "source": [
    "roi_ids = None\n",
    "sl = mv.Searchlight(cv, queryengine=qe , postproc=mv.mean_sample(), roi_ids=roi_ids)\n",
    "sl_ds_q3 = sl(ds_q3)"
   ]
  },
  {
   "cell_type": "markdown",
   "metadata": {},
   "source": [
    "# directly from search_clf"
   ]
  },
  {
   "cell_type": "code",
   "execution_count": 29,
   "metadata": {},
   "outputs": [
    {
     "name": "stdout",
     "output_type": "stream",
     "text": [
      "WARNING: Empty NIML element INDEX_LIST found, skipping\n"
     ]
    }
   ],
   "source": [
    "import sys\n",
    "from os import mkdir\n",
    "from os.path import exists, join\n",
    "import numpy as np\n",
    "import mvpa2.suite as mv\n",
    "runs = [1, 2, 3, 4, 5]\n",
    "n_conditions = 20\n",
    "n_vertices = 40962\n",
    "#n_medial = {'lh': 3487, 'rh': 3491}\n",
    "n_medial = {'lh': 3486, 'rh': 3491}\n",
    "\n",
    "# Load surface and create searchlight query engine\n",
    "fsaverage_gii = '/Users/h/Documents/projects_local/cluster_projects/fs_templates/lh.pial.gii'\n",
    "# fsaverage_gii = '/Users/h/Documents/projects_local/cluster_projects/sub-rid000001_T1w_pial.L.surf.gii'\n",
    "# surf = nibabel.gifti.read(fsaverage_gii)\n",
    "surf = mv.surf.read(fsaverage_gii)\n",
    "\n",
    "# surf = mv.surf.read(join(suma_dir, '{0}.pial.gii'.format(hemi)))\n",
    "qe = mv.SurfaceQueryEngine(surf, 10.0, distance_metric='dijkstra')\n",
    "glm_dir = '/Users/h/Documents/projects_local/cluster_projects/analysis/'\n",
    "participant = 'rid000001'\n",
    "task = 'beh'\n",
    "hemi = 'lh'\n",
    "# Load in surface data sets\n",
    "dss = []\n",
    "\n",
    "for run in runs:\n",
    "    ds = mv.niml.read(join(glm_dir, 'sub-{0}'.format(participant), 'func',\n",
    "                       'sub-{0}_task-{1}_run-{2}_rw-glm.{3}.coefs.niml.dset'.format(\n",
    "                            participant, task, run, hemi)))\n",
    "    ds.sa.pop('stats')\n",
    "    ds.sa['behavior'] = np.tile(['eating', 'fighting', 'running', 'swimming'], 5)\n",
    "    ds.sa['taxonomy'] = np.repeat(['bird', 'insect', 'primate', 'reptile', 'ungulate'], 4)\n",
    "    ds.sa['conditions'] = [' '.join((tax, beh)) for tax, beh in zip(ds.sa.taxonomy, ds.sa.behavior)]\n",
    "    for lab, cond in zip(ds.sa.labels, ds.sa.conditions):\n",
    "        assert ' '.join(lab.split('#')[0].split('_')) == cond\n",
    "    ds.sa['runs'] = [run] * 20\n",
    "    ds.sa['subjects'] = [participant] * 20\n",
    "    ds.fa['node_indices'] = range(n_vertices)\n",
    "    dss.append(ds)\n",
    "ds = mv.vstack(dss)\n",
    "\n"
   ]
  },
  {
   "cell_type": "code",
   "execution_count": 41,
   "metadata": {},
   "outputs": [],
   "source": [
    "# # Exclude medial wall\n",
    "# medial_wall = np.where(np.sum(ds.samples == 0, axis=0) == n_conditions * 5)[0].tolist()\n",
    "# cortical_vertices = np.where(np.sum(ds.samples == 0, axis=0) < n_conditions * 5)[0].tolist()\n",
    "# assert len(medial_wall) == n_medial[hemi]\n",
    "# assert len(medial_wall) + len(cortical_vertices) == n_vertices\n",
    "\n",
    "#np.save(join(mvpa_dir, 'cortical_vertices_{0}.npy'.format(hemi)), cortical_vertices)\n",
    "#cortical_vertices = = np.load(join(mvpa_dir, 'cortical_vertices_{0}.npy').tolist()\n",
    "\n",
    "# Z-score features across samples\n",
    "#mv.zscore(ds, chunks_attr='runs')\n",
    "ds.samples = ((ds.samples - np.mean(ds.samples, axis=1)[:, None])\n",
    "              / np.std(ds.samples, axis=1)[:, None])\n",
    "\n",
    "clf = mv.LinearCSVMC(space='conditions')\n",
    "\n",
    "cv = mv.CrossValidation(clf, mv.NFoldPartitioner(attr='runs'), errorfx=mv.mean_match_accuracy)\n",
    "\n"
   ]
  },
  {
   "cell_type": "code",
   "execution_count": 42,
   "metadata": {},
   "outputs": [
    {
     "data": {
      "text/plain": [
       "SampleAttributesCollection(items=[ArrayCollectable(name='runs', doc=None, value=array([1, 1, 1, 1, 1, 1, 1, 1, 1, 1, 1, 1, 1, 1, 1, 1, 1, 1, 1, 1, 2, 2,\n",
       "       2, 2, 2, 2, 2, 2, 2, 2, 2, 2, 2, 2, 2, 2, 2, 2, 2, 2, 3, 3, 3, 3,\n",
       "       3, 3, 3, 3, 3, 3, 3, 3, 3, 3, 3, 3, 3, 3, 3, 3, 4, 4, 4, 4, 4, 4,\n",
       "       4, 4, 4, 4, 4, 4, 4, 4, 4, 4, 4, 4, 4, 4, 5, 5, 5, 5, 5, 5, 5, 5,\n",
       "       5, 5, 5, 5, 5, 5, 5, 5, 5, 5, 5, 5]), length=100), ArrayCollectable(name='taxonomy', doc=None, value=array(['bird', 'bird', 'bird', 'bird', 'insect', 'insect', 'insect',\n",
       "       'insect', 'primate', 'primate', 'primate', 'primate', 'reptile',\n",
       "       'reptile', 'reptile', 'reptile', 'ungulate', 'ungulate',\n",
       "       'ungulate', 'ungulate', 'bird', 'bird', 'bird', 'bird', 'insect',\n",
       "       'insect', 'insect', 'insect', 'primate', 'primate', 'primate',\n",
       "       'primate', 'reptile', 'reptile', 'reptile', 'reptile', 'ungulate',\n",
       "       'ungulate', 'ungulate', 'ungulate', 'bird', 'bird', 'bird', 'bird',\n",
       "       'insect', 'insect', 'insect', 'insect', 'primate', 'primate',\n",
       "       'primate', 'primate', 'reptile', 'reptile', 'reptile', 'reptile',\n",
       "       'ungulate', 'ungulate', 'ungulate', 'ungulate', 'bird', 'bird',\n",
       "       'bird', 'bird', 'insect', 'insect', 'insect', 'insect', 'primate',\n",
       "       'primate', 'primate', 'primate', 'reptile', 'reptile', 'reptile',\n",
       "       'reptile', 'ungulate', 'ungulate', 'ungulate', 'ungulate', 'bird',\n",
       "       'bird', 'bird', 'bird', 'insect', 'insect', 'insect', 'insect',\n",
       "       'primate', 'primate', 'primate', 'primate', 'reptile', 'reptile',\n",
       "       'reptile', 'reptile', 'ungulate', 'ungulate', 'ungulate',\n",
       "       'ungulate'], dtype='|S8'), length=100), ArrayCollectable(name='labels', doc=None, value=array([u'bird_eating#0_Coef', u'bird_fighting#0_Coef',\n",
       "       u'bird_running#0_Coef', u'bird_swimming#0_Coef',\n",
       "       u'insect_eating#0_Coef', u'insect_fighting#0_Coef',\n",
       "       u'insect_running#0_Coef', u'insect_swimming#0_Coef',\n",
       "       u'primate_eating#0_Coef', u'primate_fighting#0_Coef',\n",
       "       u'primate_running#0_Coef', u'primate_swimming#0_Coef',\n",
       "       u'reptile_eating#0_Coef', u'reptile_fighting#0_Coef',\n",
       "       u'reptile_running#0_Coef', u'reptile_swimming#0_Coef',\n",
       "       u'ungulate_eating#0_Coef', u'ungulate_fighting#0_Coef',\n",
       "       u'ungulate_running#0_Coef', u'ungulate_swimming#0_Coef',\n",
       "       u'bird_eating#0_Coef', u'bird_fighting#0_Coef',\n",
       "       u'bird_running#0_Coef', u'bird_swimming#0_Coef',\n",
       "       u'insect_eating#0_Coef', u'insect_fighting#0_Coef',\n",
       "       u'insect_running#0_Coef', u'insect_swimming#0_Coef',\n",
       "       u'primate_eating#0_Coef', u'primate_fighting#0_Coef',\n",
       "       u'primate_running#0_Coef', u'primate_swimming#0_Coef',\n",
       "       u'reptile_eating#0_Coef', u'reptile_fighting#0_Coef',\n",
       "       u'reptile_running#0_Coef', u'reptile_swimming#0_Coef',\n",
       "       u'ungulate_eating#0_Coef', u'ungulate_fighting#0_Coef',\n",
       "       u'ungulate_running#0_Coef', u'ungulate_swimming#0_Coef',\n",
       "       u'bird_eating#0_Coef', u'bird_fighting#0_Coef',\n",
       "       u'bird_running#0_Coef', u'bird_swimming#0_Coef',\n",
       "       u'insect_eating#0_Coef', u'insect_fighting#0_Coef',\n",
       "       u'insect_running#0_Coef', u'insect_swimming#0_Coef',\n",
       "       u'primate_eating#0_Coef', u'primate_fighting#0_Coef',\n",
       "       u'primate_running#0_Coef', u'primate_swimming#0_Coef',\n",
       "       u'reptile_eating#0_Coef', u'reptile_fighting#0_Coef',\n",
       "       u'reptile_running#0_Coef', u'reptile_swimming#0_Coef',\n",
       "       u'ungulate_eating#0_Coef', u'ungulate_fighting#0_Coef',\n",
       "       u'ungulate_running#0_Coef', u'ungulate_swimming#0_Coef',\n",
       "       u'bird_eating#0_Coef', u'bird_fighting#0_Coef',\n",
       "       u'bird_running#0_Coef', u'bird_swimming#0_Coef',\n",
       "       u'insect_eating#0_Coef', u'insect_fighting#0_Coef',\n",
       "       u'insect_running#0_Coef', u'insect_swimming#0_Coef',\n",
       "       u'primate_eating#0_Coef', u'primate_fighting#0_Coef',\n",
       "       u'primate_running#0_Coef', u'primate_swimming#0_Coef',\n",
       "       u'reptile_eating#0_Coef', u'reptile_fighting#0_Coef',\n",
       "       u'reptile_running#0_Coef', u'reptile_swimming#0_Coef',\n",
       "       u'ungulate_eating#0_Coef', u'ungulate_fighting#0_Coef',\n",
       "       u'ungulate_running#0_Coef', u'ungulate_swimming#0_Coef',\n",
       "       u'bird_eating#0_Coef', u'bird_fighting#0_Coef',\n",
       "       u'bird_running#0_Coef', u'bird_swimming#0_Coef',\n",
       "       u'insect_eating#0_Coef', u'insect_fighting#0_Coef',\n",
       "       u'insect_running#0_Coef', u'insect_swimming#0_Coef',\n",
       "       u'primate_eating#0_Coef', u'primate_fighting#0_Coef',\n",
       "       u'primate_running#0_Coef', u'primate_swimming#0_Coef',\n",
       "       u'reptile_eating#0_Coef', u'reptile_fighting#0_Coef',\n",
       "       u'reptile_running#0_Coef', u'reptile_swimming#0_Coef',\n",
       "       u'ungulate_eating#0_Coef', u'ungulate_fighting#0_Coef',\n",
       "       u'ungulate_running#0_Coef', u'ungulate_swimming#0_Coef'],\n",
       "      dtype='<U24'), length=100), ArrayCollectable(name='subjects', doc=None, value=array(['rid000001', 'rid000001', 'rid000001', 'rid000001', 'rid000001',\n",
       "       'rid000001', 'rid000001', 'rid000001', 'rid000001', 'rid000001',\n",
       "       'rid000001', 'rid000001', 'rid000001', 'rid000001', 'rid000001',\n",
       "       'rid000001', 'rid000001', 'rid000001', 'rid000001', 'rid000001',\n",
       "       'rid000001', 'rid000001', 'rid000001', 'rid000001', 'rid000001',\n",
       "       'rid000001', 'rid000001', 'rid000001', 'rid000001', 'rid000001',\n",
       "       'rid000001', 'rid000001', 'rid000001', 'rid000001', 'rid000001',\n",
       "       'rid000001', 'rid000001', 'rid000001', 'rid000001', 'rid000001',\n",
       "       'rid000001', 'rid000001', 'rid000001', 'rid000001', 'rid000001',\n",
       "       'rid000001', 'rid000001', 'rid000001', 'rid000001', 'rid000001',\n",
       "       'rid000001', 'rid000001', 'rid000001', 'rid000001', 'rid000001',\n",
       "       'rid000001', 'rid000001', 'rid000001', 'rid000001', 'rid000001',\n",
       "       'rid000001', 'rid000001', 'rid000001', 'rid000001', 'rid000001',\n",
       "       'rid000001', 'rid000001', 'rid000001', 'rid000001', 'rid000001',\n",
       "       'rid000001', 'rid000001', 'rid000001', 'rid000001', 'rid000001',\n",
       "       'rid000001', 'rid000001', 'rid000001', 'rid000001', 'rid000001',\n",
       "       'rid000001', 'rid000001', 'rid000001', 'rid000001', 'rid000001',\n",
       "       'rid000001', 'rid000001', 'rid000001', 'rid000001', 'rid000001',\n",
       "       'rid000001', 'rid000001', 'rid000001', 'rid000001', 'rid000001',\n",
       "       'rid000001', 'rid000001', 'rid000001', 'rid000001', 'rid000001'],\n",
       "      dtype='|S9'), length=100), ArrayCollectable(name='behavior', doc=None, value=array(['eating', 'fighting', 'running', 'swimming', 'eating', 'fighting',\n",
       "       'running', 'swimming', 'eating', 'fighting', 'running', 'swimming',\n",
       "       'eating', 'fighting', 'running', 'swimming', 'eating', 'fighting',\n",
       "       'running', 'swimming', 'eating', 'fighting', 'running', 'swimming',\n",
       "       'eating', 'fighting', 'running', 'swimming', 'eating', 'fighting',\n",
       "       'running', 'swimming', 'eating', 'fighting', 'running', 'swimming',\n",
       "       'eating', 'fighting', 'running', 'swimming', 'eating', 'fighting',\n",
       "       'running', 'swimming', 'eating', 'fighting', 'running', 'swimming',\n",
       "       'eating', 'fighting', 'running', 'swimming', 'eating', 'fighting',\n",
       "       'running', 'swimming', 'eating', 'fighting', 'running', 'swimming',\n",
       "       'eating', 'fighting', 'running', 'swimming', 'eating', 'fighting',\n",
       "       'running', 'swimming', 'eating', 'fighting', 'running', 'swimming',\n",
       "       'eating', 'fighting', 'running', 'swimming', 'eating', 'fighting',\n",
       "       'running', 'swimming', 'eating', 'fighting', 'running', 'swimming',\n",
       "       'eating', 'fighting', 'running', 'swimming', 'eating', 'fighting',\n",
       "       'running', 'swimming', 'eating', 'fighting', 'running', 'swimming',\n",
       "       'eating', 'fighting', 'running', 'swimming'], dtype='|S8'), length=100), ArrayCollectable(name='conditions', doc=None, value=array(['bird eating', 'bird fighting', 'bird running', 'bird swimming',\n",
       "       'insect eating', 'insect fighting', 'insect running',\n",
       "       'insect swimming', 'primate eating', 'primate fighting',\n",
       "       'primate running', 'primate swimming', 'reptile eating',\n",
       "       'reptile fighting', 'reptile running', 'reptile swimming',\n",
       "       'ungulate eating', 'ungulate fighting', 'ungulate running',\n",
       "       'ungulate swimming', 'bird eating', 'bird fighting',\n",
       "       'bird running', 'bird swimming', 'insect eating',\n",
       "       'insect fighting', 'insect running', 'insect swimming',\n",
       "       'primate eating', 'primate fighting', 'primate running',\n",
       "       'primate swimming', 'reptile eating', 'reptile fighting',\n",
       "       'reptile running', 'reptile swimming', 'ungulate eating',\n",
       "       'ungulate fighting', 'ungulate running', 'ungulate swimming',\n",
       "       'bird eating', 'bird fighting', 'bird running', 'bird swimming',\n",
       "       'insect eating', 'insect fighting', 'insect running',\n",
       "       'insect swimming', 'primate eating', 'primate fighting',\n",
       "       'primate running', 'primate swimming', 'reptile eating',\n",
       "       'reptile fighting', 'reptile running', 'reptile swimming',\n",
       "       'ungulate eating', 'ungulate fighting', 'ungulate running',\n",
       "       'ungulate swimming', 'bird eating', 'bird fighting',\n",
       "       'bird running', 'bird swimming', 'insect eating',\n",
       "       'insect fighting', 'insect running', 'insect swimming',\n",
       "       'primate eating', 'primate fighting', 'primate running',\n",
       "       'primate swimming', 'reptile eating', 'reptile fighting',\n",
       "       'reptile running', 'reptile swimming', 'ungulate eating',\n",
       "       'ungulate fighting', 'ungulate running', 'ungulate swimming',\n",
       "       'bird eating', 'bird fighting', 'bird running', 'bird swimming',\n",
       "       'insect eating', 'insect fighting', 'insect running',\n",
       "       'insect swimming', 'primate eating', 'primate fighting',\n",
       "       'primate running', 'primate swimming', 'reptile eating',\n",
       "       'reptile fighting', 'reptile running', 'reptile swimming',\n",
       "       'ungulate eating', 'ungulate fighting', 'ungulate running',\n",
       "       'ungulate swimming'], dtype='|S17'), length=100)])"
      ]
     },
     "execution_count": 42,
     "metadata": {},
     "output_type": "execute_result"
    }
   ],
   "source": [
    "ds.sa"
   ]
  },
  {
   "cell_type": "code",
   "execution_count": 43,
   "metadata": {},
   "outputs": [],
   "source": [
    "sl = mv.Searchlight(cv, queryengine=qe, enable_ca=['roi_sizes'],\n",
    "                    nproc=1, roi_ids=cortical_vertices)"
   ]
  },
  {
   "cell_type": "code",
   "execution_count": null,
   "metadata": {},
   "outputs": [],
   "source": [
    "sl_result = sl(ds)\n"
   ]
  },
  {
   "cell_type": "code",
   "execution_count": 492,
   "metadata": {},
   "outputs": [
    {
     "data": {
      "text/plain": [
       "37476"
      ]
     },
     "execution_count": 492,
     "metadata": {},
     "output_type": "execute_result"
    }
   ],
   "source": [
    "len(sl.roi_ids)"
   ]
  },
  {
   "cell_type": "code",
   "execution_count": null,
   "metadata": {},
   "outputs": [],
   "source": [
    "searchlight_q1_filename = os.path.join(main_dir, 'analysis', 'searchlight', sub_name + '.gii')\n",
    "nimg = mv.map2gifti(fwm, filename, encoding='GIFTI_ENCODING_B64GZ', surface=surf)"
   ]
  }
 ],
 "metadata": {
  "kernelspec": {
   "display_name": "Python 2",
   "language": "python",
   "name": "python2"
  },
  "language_info": {
   "codemirror_mode": {
    "name": "ipython",
    "version": 2
   },
   "file_extension": ".py",
   "mimetype": "text/x-python",
   "name": "python",
   "nbconvert_exporter": "python",
   "pygments_lexer": "ipython2",
   "version": "2.7.16"
  },
  "latex_envs": {
   "LaTeX_envs_menu_present": true,
   "autoclose": false,
   "autocomplete": true,
   "bibliofile": "biblio.bib",
   "cite_by": "apalike",
   "current_citInitial": 1,
   "eqLabelWithNumbers": true,
   "eqNumInitial": 1,
   "hotkeys": {
    "equation": "Ctrl-E",
    "itemize": "Ctrl-I"
   },
   "labels_anchors": false,
   "latex_user_defs": false,
   "report_style_numbering": false,
   "user_envs_cfg": false
  },
  "toc": {
   "base_numbering": 1,
   "nav_menu": {},
   "number_sections": true,
   "sideBar": true,
   "skip_h1_title": false,
   "title_cell": "Table of Contents",
   "title_sidebar": "Contents",
   "toc_cell": false,
   "toc_position": {
    "height": "calc(100% - 180px)",
    "left": "10px",
    "top": "150px",
    "width": "279.797px"
   },
   "toc_section_display": true,
   "toc_window_display": true
  }
 },
 "nbformat": 4,
 "nbformat_minor": 2
}
